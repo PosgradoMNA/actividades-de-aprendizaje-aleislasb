{
  "nbformat": 4,
  "nbformat_minor": 0,
  "metadata": {
    "colab": {
      "name": "assignment01.ipynb",
      "provenance": [],
      "include_colab_link": true
    },
    "kernelspec": {
      "name": "python3",
      "display_name": "Python 3"
    },
    "language_info": {
      "name": "python"
    }
  },
  "cells": [
    {
      "cell_type": "markdown",
      "metadata": {
        "id": "view-in-github",
        "colab_type": "text"
      },
      "source": [
        "<a href=\"https://colab.research.google.com/github/PosgradoMNA/actividades-de-aprendizaje-aleislasb/blob/main/Semana%202-Actividad%201.ipynb\" target=\"_parent\"><img src=\"https://colab.research.google.com/assets/colab-badge.svg\" alt=\"Open In Colab\"/></a>"
      ]
    },
    {
      "cell_type": "markdown",
      "source": [
        "#4.1 Reading Files with Open"
      ],
      "metadata": {
        "id": "O_EWsA9O8E6r"
      }
    },
    {
      "cell_type": "code",
      "source": [
        "#The open function gets a file object. We need to write two parameters, the file and the mode, the file path divides into two sections: the file directory and at the end the file name. \n",
        "#Some values for mode are reading, appending and writing.\n",
        "File1=open(\"/resources/data/Example2.txt\",\"w\")\n",
        "print(File1.name)\n",
        "\n",
        "#To view name or mode to reading function use. \n",
        "File1.name \n",
        "File1.mode \n",
        "#All open statements should have at the end a close function\n",
        "File1.close()"
      ],
      "metadata": {
        "id": "BB9kiBFLrKxn"
      },
      "execution_count": null,
      "outputs": []
    },
    {
      "cell_type": "code",
      "source": [
        "#Using a with statement does not need a close function since it runs everything that its in the block and then closes.\n",
        "with open (\"Example1.txt\", \"r\") as File1: \n",
        "  file_stuff=File1.read()\n",
        "  print(file_stuff)\n",
        "\n",
        "print(File1.closed)\n",
        "print(file_stuff)\n",
        "\n",
        "#The method read lines reads everything that its on the file. When we used it twice reads each line individually.\n",
        "file_stuff=File1.readlines()\n",
        "\n",
        "#When we add a number between parentheses we are specifying which characters do we like to read.\n",
        "file_stuff=File1.readlines(5)\n",
        "print(file_stuff) "
      ],
      "metadata": {
        "id": "qqSmAk1SG_MV"
      },
      "execution_count": null,
      "outputs": []
    },
    {
      "cell_type": "markdown",
      "source": [
        "#4.2 Writing Files with Open"
      ],
      "metadata": {
        "id": "TaJ3XViaNgTQ"
      }
    },
    {
      "cell_type": "code",
      "source": [
        "#We can use .write to add text to object file. In this example this creates a file called Example2.txt and writes This is line A into the file.\n",
        "with open(\"/resources/data/Example2.txt\",\"w\") as File1:\n",
        "  File1.write(\"This is line A\")\n",
        "\n",
        "#For each iteration of the function .write each value is added to the file.\n",
        "with open(\"/resources/data/Example2.txt\",\"w\") as File1:\n",
        "  File1.write(\"This is line A\")\n",
        "  File1.write(\"This is line B\")"
      ],
      "metadata": {
        "id": "0pbHyhNmrNsH"
      },
      "execution_count": null,
      "outputs": []
    },
    {
      "cell_type": "code",
      "source": [
        "#The mode append uses an existing file and adds more information to that file.\n",
        "with open(\"/resources/data/Example2.txt\",\"a\") as File1:\n",
        "  File1.write(\"This is line A\")"
      ],
      "metadata": {
        "id": "rMmZpeo0sweS"
      },
      "execution_count": null,
      "outputs": []
    },
    {
      "cell_type": "code",
      "source": [
        "#In order to copy one file to another we can open two files. On which we are specifying which do we like to copy from as it is in the example as readfile and to which do we like to copy, expressed as writefile.\n",
        "with open(\"Example1.txt\",\"r\") as readfile:\n",
        "  with open(\"Example3.txt\",\"w\") as writefile:\n",
        "    for line in readfile:\n",
        "      writefile.write(line)\n",
        "#This function iterates until there is no more lines to copy and close the object."
      ],
      "metadata": {
        "id": "rEt7s75vtocj"
      },
      "execution_count": null,
      "outputs": []
    },
    {
      "cell_type": "markdown",
      "source": [
        "4.2 Exercise"
      ],
      "metadata": {
        "id": "wP_Um9exv5Js"
      }
    },
    {
      "cell_type": "code",
      "source": [
        "#Run this prior to starting the exercise\n",
        "from random import randint as rnd\n",
        "\n",
        "memReg = 'members.txt'\n",
        "exReg = 'inactive.txt'\n",
        "fee =('yes','no')\n",
        "\n",
        "def genFiles(current,old):\n",
        "    with open(current,'w+') as writefile: \n",
        "        writefile.write('Membership No  Date Joined  Active  \\n')\n",
        "        data = \"{:^13}  {:<11}  {:<6}\\n\"\n",
        "\n",
        "        for rowno in range(20):\n",
        "            date = str(rnd(2015,2020))+ '-' + str(rnd(1,12))+'-'+str(rnd(1,25))\n",
        "            writefile.write(data.format(rnd(10000,99999),date,fee[rnd(0,1)]))\n",
        "\n",
        "\n",
        "    with open(old,'w+') as writefile: \n",
        "        writefile.write('Membership No  Date Joined  Active  \\n')\n",
        "        data = \"{:^13}  {:<11}  {:<6}\\n\"\n",
        "        for rowno in range(3):\n",
        "            date = str(rnd(2015,2020))+ '-' + str(rnd(1,12))+'-'+str(rnd(1,25))\n",
        "            writefile.write(data.format(rnd(10000,99999),date,fee[1]))"
      ],
      "metadata": {
        "id": "0FF3gl-Ev-To"
      },
      "execution_count": 9,
      "outputs": []
    },
    {
      "cell_type": "code",
      "source": [
        "#First open the file for reading mode and on the other one which we are going to add the information.\n",
        "def cleanFiles(currentMem,exMem):\n",
        "  with open(currentMem, \"r+\") as writeFile: \n",
        "    with open(exMem,\"a+\") as appendFile:\n",
        "      writeFile.seek(0)\n",
        "      members= writeFile.readlines()\n",
        "      header=members[0]\n",
        "      members.pop(0)\n",
        "#Reads each member in the currentMem.\n",
        "      inactive = [member for member in members if (\"no\" in member)]\n",
        "      writeFile.seek(0)\n",
        "      writeFile.write(header)\n",
        "      for member in members:\n",
        "          if(member in inactive):\n",
        "            appendFile.write(member)\n",
        "          else:\n",
        "            writeFile.write(member)\n",
        "      writeFile.truncate()\n",
        "#And then iterates through the members ans created the new file.\n",
        "  memReg=\"members.txt\"\n",
        "  exReg=\"inactive.txt\"\n",
        "  cleanFiles(memReg,exReg)\n",
        "\n",
        "  "
      ],
      "metadata": {
        "id": "DIOyq3zmyvhv"
      },
      "execution_count": 14,
      "outputs": []
    }
  ]
}