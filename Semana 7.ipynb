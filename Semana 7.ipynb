{
  "nbformat": 4,
  "nbformat_minor": 0,
  "metadata": {
    "colab": {
      "name": "assignment01.ipynb",
      "provenance": [],
      "include_colab_link": true
    },
    "kernelspec": {
      "name": "python3",
      "display_name": "Python 3"
    },
    "language_info": {
      "name": "python"
    }
  },
  "cells": [
    {
      "cell_type": "markdown",
      "metadata": {
        "id": "view-in-github",
        "colab_type": "text"
      },
      "source": [
        "<a href=\"https://colab.research.google.com/github/PosgradoMNA/actividades-de-aprendizaje-aleislasb/blob/main/Semana%207.ipynb\" target=\"_parent\"><img src=\"https://colab.research.google.com/assets/colab-badge.svg\" alt=\"Open In Colab\"/></a>"
      ]
    },
    {
      "cell_type": "markdown",
      "source": [
        "#Module 4. Model Development\n"
      ],
      "metadata": {
        "id": "EeOL5WnYziWS"
      }
    },
    {
      "cell_type": "markdown",
      "source": [
        "4.1 Model Development"
      ],
      "metadata": {
        "id": "c4t7UXuezm1F"
      }
    },
    {
      "cell_type": "code",
      "source": [
        "#A model is a mathematical equation that the purpose is to predict based on the behavior of different variables. Here we can relate independent variables to the dependent ones.\n",
        "#Model Development helps us to predict with more exactitude a result. We can have different types of linear regresion, simple, multiple and polynomial, this depends on the variables taht we have."
      ],
      "metadata": {
        "id": "mxM_WppZPMFx"
      },
      "execution_count": null,
      "outputs": []
    },
    {
      "cell_type": "markdown",
      "source": [
        "4.2 Linear and Multiple Linear Regression"
      ],
      "metadata": {
        "id": "0t6YPB5s0_Zu"
      }
    },
    {
      "cell_type": "code",
      "source": [
        "#The levels on linear regression on a model depends on the variables that we are incluiding on our final model.\n",
        "#But always goes with the predictor and the target, which the performance of both needs to have a correlation, this relationship gives a linear relationship on which a tendency is represented. \n",
        "#Usually all the values can not be exactly on the tendency line, the difference between the final position and the tendency line is the noise, which gives us space to have a difference. "
      ],
      "metadata": {
        "id": "OLxNNgNI1ICQ"
      },
      "execution_count": null,
      "outputs": []
    },
    {
      "cell_type": "markdown",
      "source": [
        "4.3 Model Visualization Using Visualization"
      ],
      "metadata": {
        "id": "rsANIIgV3KGD"
      }
    },
    {
      "cell_type": "code",
      "source": [
        "#Residual Plot shows us the behavior of our correlation talking about the error that the model has, this can show us if we have a linear or non-linear function in order to predict values.\n",
        "#We can also have distribution plot in order to know the acurracy of our model, comparing them from the predicted and the target values."
      ],
      "metadata": {
        "id": "C1Ckieg93ODW"
      },
      "execution_count": null,
      "outputs": []
    },
    {
      "cell_type": "markdown",
      "source": [
        "4.4 Polynomial Regression and Pipelines "
      ],
      "metadata": {
        "id": "XImDkVtv9OuH"
      }
    },
    {
      "cell_type": "code",
      "source": [
        "#Polynomial describes curvilinear relationships, showing for example a cuadratic expression or for any mathematical expression that implies a change that also has a relation.\n",
        "#Scaling is important if we have a more variables that are complicated in order to find a correlation.\n",
        "#Pipeline performs what it is necessary in order to have a prediction, normalization, a polynomial transform and outputs a prediction."
      ],
      "metadata": {
        "id": "1yvwyhpn9TTk"
      },
      "execution_count": null,
      "outputs": []
    },
    {
      "cell_type": "markdown",
      "source": [
        "4.5 Measures for In-Sample Evaluation"
      ],
      "metadata": {
        "id": "4mg7aGa3-fgD"
      }
    },
    {
      "cell_type": "code",
      "source": [
        "#MSE is referred to the difference between the real value and the estimated value squared, at the end we just have the mean of the complete difference. This means that a higher value the most errors we are going to do in our model.\n",
        "#Coefficient of Determination can be described as the precision of the complete model, if the value is closer to 1, the more precise it is to the real value and accurrate."
      ],
      "metadata": {
        "id": "10UzmZ-0FBM2"
      },
      "execution_count": null,
      "outputs": []
    },
    {
      "cell_type": "markdown",
      "source": [
        "4.6 Prediction and Decision Making"
      ],
      "metadata": {
        "id": "9TDZtqG8JFWB"
      }
    },
    {
      "cell_type": "code",
      "source": [
        "#One easier way to check the information given is just to check that the information makes sense, look on the trends charts and tendency correlation to know which values are not reliable for lack of information or needs a more complex procedure. \n",
        "#Visualization is really important since this shows that ours statements are real."
      ],
      "metadata": {
        "id": "2OT9OkR7JLD6"
      },
      "execution_count": null,
      "outputs": []
    },
    {
      "cell_type": "markdown",
      "source": [
        "Lab"
      ],
      "metadata": {
        "id": "AMN4jj6WNi8-"
      }
    },
    {
      "cell_type": "code",
      "source": [
        "import pandas as pd\n",
        "import numpy as np\n",
        "import matplotlib.pyplot as plt\n",
        "\n",
        "path = 'https://cf-courses-data.s3.us.cloud-object-storage.appdomain.cloud/IBMDeveloperSkillsNetwork-DA0101EN-SkillsNetwork/labs/Data%20files/automobileEDA.csv'\n",
        "\n",
        "df = pd.read_csv(path)\n",
        "df.head()"
      ],
      "metadata": {
        "id": "Fd58on7uNjw9",
        "outputId": "cc6e2494-2365-4bc8-f98b-a341c72e5842",
        "colab": {
          "base_uri": "https://localhost:8080/",
          "height": 386
        }
      },
      "execution_count": 1,
      "outputs": [
        {
          "output_type": "execute_result",
          "data": {
            "text/plain": [
              "   symboling  normalized-losses         make aspiration num-of-doors  \\\n",
              "0          3                122  alfa-romero        std          two   \n",
              "1          3                122  alfa-romero        std          two   \n",
              "2          1                122  alfa-romero        std          two   \n",
              "3          2                164         audi        std         four   \n",
              "4          2                164         audi        std         four   \n",
              "\n",
              "    body-style drive-wheels engine-location  wheel-base    length  ...  \\\n",
              "0  convertible          rwd           front        88.6  0.811148  ...   \n",
              "1  convertible          rwd           front        88.6  0.811148  ...   \n",
              "2    hatchback          rwd           front        94.5  0.822681  ...   \n",
              "3        sedan          fwd           front        99.8  0.848630  ...   \n",
              "4        sedan          4wd           front        99.4  0.848630  ...   \n",
              "\n",
              "   compression-ratio  horsepower  peak-rpm city-mpg highway-mpg    price  \\\n",
              "0                9.0       111.0    5000.0       21          27  13495.0   \n",
              "1                9.0       111.0    5000.0       21          27  16500.0   \n",
              "2                9.0       154.0    5000.0       19          26  16500.0   \n",
              "3               10.0       102.0    5500.0       24          30  13950.0   \n",
              "4                8.0       115.0    5500.0       18          22  17450.0   \n",
              "\n",
              "  city-L/100km  horsepower-binned  diesel  gas  \n",
              "0    11.190476             Medium       0    1  \n",
              "1    11.190476             Medium       0    1  \n",
              "2    12.368421             Medium       0    1  \n",
              "3     9.791667             Medium       0    1  \n",
              "4    13.055556             Medium       0    1  \n",
              "\n",
              "[5 rows x 29 columns]"
            ],
            "text/html": [
              "\n",
              "  <div id=\"df-21b16d7a-79f9-46d9-87e9-80e64d4014a8\">\n",
              "    <div class=\"colab-df-container\">\n",
              "      <div>\n",
              "<style scoped>\n",
              "    .dataframe tbody tr th:only-of-type {\n",
              "        vertical-align: middle;\n",
              "    }\n",
              "\n",
              "    .dataframe tbody tr th {\n",
              "        vertical-align: top;\n",
              "    }\n",
              "\n",
              "    .dataframe thead th {\n",
              "        text-align: right;\n",
              "    }\n",
              "</style>\n",
              "<table border=\"1\" class=\"dataframe\">\n",
              "  <thead>\n",
              "    <tr style=\"text-align: right;\">\n",
              "      <th></th>\n",
              "      <th>symboling</th>\n",
              "      <th>normalized-losses</th>\n",
              "      <th>make</th>\n",
              "      <th>aspiration</th>\n",
              "      <th>num-of-doors</th>\n",
              "      <th>body-style</th>\n",
              "      <th>drive-wheels</th>\n",
              "      <th>engine-location</th>\n",
              "      <th>wheel-base</th>\n",
              "      <th>length</th>\n",
              "      <th>...</th>\n",
              "      <th>compression-ratio</th>\n",
              "      <th>horsepower</th>\n",
              "      <th>peak-rpm</th>\n",
              "      <th>city-mpg</th>\n",
              "      <th>highway-mpg</th>\n",
              "      <th>price</th>\n",
              "      <th>city-L/100km</th>\n",
              "      <th>horsepower-binned</th>\n",
              "      <th>diesel</th>\n",
              "      <th>gas</th>\n",
              "    </tr>\n",
              "  </thead>\n",
              "  <tbody>\n",
              "    <tr>\n",
              "      <th>0</th>\n",
              "      <td>3</td>\n",
              "      <td>122</td>\n",
              "      <td>alfa-romero</td>\n",
              "      <td>std</td>\n",
              "      <td>two</td>\n",
              "      <td>convertible</td>\n",
              "      <td>rwd</td>\n",
              "      <td>front</td>\n",
              "      <td>88.6</td>\n",
              "      <td>0.811148</td>\n",
              "      <td>...</td>\n",
              "      <td>9.0</td>\n",
              "      <td>111.0</td>\n",
              "      <td>5000.0</td>\n",
              "      <td>21</td>\n",
              "      <td>27</td>\n",
              "      <td>13495.0</td>\n",
              "      <td>11.190476</td>\n",
              "      <td>Medium</td>\n",
              "      <td>0</td>\n",
              "      <td>1</td>\n",
              "    </tr>\n",
              "    <tr>\n",
              "      <th>1</th>\n",
              "      <td>3</td>\n",
              "      <td>122</td>\n",
              "      <td>alfa-romero</td>\n",
              "      <td>std</td>\n",
              "      <td>two</td>\n",
              "      <td>convertible</td>\n",
              "      <td>rwd</td>\n",
              "      <td>front</td>\n",
              "      <td>88.6</td>\n",
              "      <td>0.811148</td>\n",
              "      <td>...</td>\n",
              "      <td>9.0</td>\n",
              "      <td>111.0</td>\n",
              "      <td>5000.0</td>\n",
              "      <td>21</td>\n",
              "      <td>27</td>\n",
              "      <td>16500.0</td>\n",
              "      <td>11.190476</td>\n",
              "      <td>Medium</td>\n",
              "      <td>0</td>\n",
              "      <td>1</td>\n",
              "    </tr>\n",
              "    <tr>\n",
              "      <th>2</th>\n",
              "      <td>1</td>\n",
              "      <td>122</td>\n",
              "      <td>alfa-romero</td>\n",
              "      <td>std</td>\n",
              "      <td>two</td>\n",
              "      <td>hatchback</td>\n",
              "      <td>rwd</td>\n",
              "      <td>front</td>\n",
              "      <td>94.5</td>\n",
              "      <td>0.822681</td>\n",
              "      <td>...</td>\n",
              "      <td>9.0</td>\n",
              "      <td>154.0</td>\n",
              "      <td>5000.0</td>\n",
              "      <td>19</td>\n",
              "      <td>26</td>\n",
              "      <td>16500.0</td>\n",
              "      <td>12.368421</td>\n",
              "      <td>Medium</td>\n",
              "      <td>0</td>\n",
              "      <td>1</td>\n",
              "    </tr>\n",
              "    <tr>\n",
              "      <th>3</th>\n",
              "      <td>2</td>\n",
              "      <td>164</td>\n",
              "      <td>audi</td>\n",
              "      <td>std</td>\n",
              "      <td>four</td>\n",
              "      <td>sedan</td>\n",
              "      <td>fwd</td>\n",
              "      <td>front</td>\n",
              "      <td>99.8</td>\n",
              "      <td>0.848630</td>\n",
              "      <td>...</td>\n",
              "      <td>10.0</td>\n",
              "      <td>102.0</td>\n",
              "      <td>5500.0</td>\n",
              "      <td>24</td>\n",
              "      <td>30</td>\n",
              "      <td>13950.0</td>\n",
              "      <td>9.791667</td>\n",
              "      <td>Medium</td>\n",
              "      <td>0</td>\n",
              "      <td>1</td>\n",
              "    </tr>\n",
              "    <tr>\n",
              "      <th>4</th>\n",
              "      <td>2</td>\n",
              "      <td>164</td>\n",
              "      <td>audi</td>\n",
              "      <td>std</td>\n",
              "      <td>four</td>\n",
              "      <td>sedan</td>\n",
              "      <td>4wd</td>\n",
              "      <td>front</td>\n",
              "      <td>99.4</td>\n",
              "      <td>0.848630</td>\n",
              "      <td>...</td>\n",
              "      <td>8.0</td>\n",
              "      <td>115.0</td>\n",
              "      <td>5500.0</td>\n",
              "      <td>18</td>\n",
              "      <td>22</td>\n",
              "      <td>17450.0</td>\n",
              "      <td>13.055556</td>\n",
              "      <td>Medium</td>\n",
              "      <td>0</td>\n",
              "      <td>1</td>\n",
              "    </tr>\n",
              "  </tbody>\n",
              "</table>\n",
              "<p>5 rows × 29 columns</p>\n",
              "</div>\n",
              "      <button class=\"colab-df-convert\" onclick=\"convertToInteractive('df-21b16d7a-79f9-46d9-87e9-80e64d4014a8')\"\n",
              "              title=\"Convert this dataframe to an interactive table.\"\n",
              "              style=\"display:none;\">\n",
              "        \n",
              "  <svg xmlns=\"http://www.w3.org/2000/svg\" height=\"24px\"viewBox=\"0 0 24 24\"\n",
              "       width=\"24px\">\n",
              "    <path d=\"M0 0h24v24H0V0z\" fill=\"none\"/>\n",
              "    <path d=\"M18.56 5.44l.94 2.06.94-2.06 2.06-.94-2.06-.94-.94-2.06-.94 2.06-2.06.94zm-11 1L8.5 8.5l.94-2.06 2.06-.94-2.06-.94L8.5 2.5l-.94 2.06-2.06.94zm10 10l.94 2.06.94-2.06 2.06-.94-2.06-.94-.94-2.06-.94 2.06-2.06.94z\"/><path d=\"M17.41 7.96l-1.37-1.37c-.4-.4-.92-.59-1.43-.59-.52 0-1.04.2-1.43.59L10.3 9.45l-7.72 7.72c-.78.78-.78 2.05 0 2.83L4 21.41c.39.39.9.59 1.41.59.51 0 1.02-.2 1.41-.59l7.78-7.78 2.81-2.81c.8-.78.8-2.07 0-2.86zM5.41 20L4 18.59l7.72-7.72 1.47 1.35L5.41 20z\"/>\n",
              "  </svg>\n",
              "      </button>\n",
              "      \n",
              "  <style>\n",
              "    .colab-df-container {\n",
              "      display:flex;\n",
              "      flex-wrap:wrap;\n",
              "      gap: 12px;\n",
              "    }\n",
              "\n",
              "    .colab-df-convert {\n",
              "      background-color: #E8F0FE;\n",
              "      border: none;\n",
              "      border-radius: 50%;\n",
              "      cursor: pointer;\n",
              "      display: none;\n",
              "      fill: #1967D2;\n",
              "      height: 32px;\n",
              "      padding: 0 0 0 0;\n",
              "      width: 32px;\n",
              "    }\n",
              "\n",
              "    .colab-df-convert:hover {\n",
              "      background-color: #E2EBFA;\n",
              "      box-shadow: 0px 1px 2px rgba(60, 64, 67, 0.3), 0px 1px 3px 1px rgba(60, 64, 67, 0.15);\n",
              "      fill: #174EA6;\n",
              "    }\n",
              "\n",
              "    [theme=dark] .colab-df-convert {\n",
              "      background-color: #3B4455;\n",
              "      fill: #D2E3FC;\n",
              "    }\n",
              "\n",
              "    [theme=dark] .colab-df-convert:hover {\n",
              "      background-color: #434B5C;\n",
              "      box-shadow: 0px 1px 3px 1px rgba(0, 0, 0, 0.15);\n",
              "      filter: drop-shadow(0px 1px 2px rgba(0, 0, 0, 0.3));\n",
              "      fill: #FFFFFF;\n",
              "    }\n",
              "  </style>\n",
              "\n",
              "      <script>\n",
              "        const buttonEl =\n",
              "          document.querySelector('#df-21b16d7a-79f9-46d9-87e9-80e64d4014a8 button.colab-df-convert');\n",
              "        buttonEl.style.display =\n",
              "          google.colab.kernel.accessAllowed ? 'block' : 'none';\n",
              "\n",
              "        async function convertToInteractive(key) {\n",
              "          const element = document.querySelector('#df-21b16d7a-79f9-46d9-87e9-80e64d4014a8');\n",
              "          const dataTable =\n",
              "            await google.colab.kernel.invokeFunction('convertToInteractive',\n",
              "                                                     [key], {});\n",
              "          if (!dataTable) return;\n",
              "\n",
              "          const docLinkHtml = 'Like what you see? Visit the ' +\n",
              "            '<a target=\"_blank\" href=https://colab.research.google.com/notebooks/data_table.ipynb>data table notebook</a>'\n",
              "            + ' to learn more about interactive tables.';\n",
              "          element.innerHTML = '';\n",
              "          dataTable['output_type'] = 'display_data';\n",
              "          await google.colab.output.renderOutput(dataTable, element);\n",
              "          const docLink = document.createElement('div');\n",
              "          docLink.innerHTML = docLinkHtml;\n",
              "          element.appendChild(docLink);\n",
              "        }\n",
              "      </script>\n",
              "    </div>\n",
              "  </div>\n",
              "  "
            ]
          },
          "metadata": {},
          "execution_count": 1
        }
      ]
    },
    {
      "cell_type": "code",
      "source": [
        "from sklearn.linear_model import LinearRegression\n",
        "lm = LinearRegression()\n",
        "lm\n",
        "\n",
        "X = df[['highway-mpg']]\n",
        "Y = df['price']"
      ],
      "metadata": {
        "id": "QxRIf0KINuLa"
      },
      "execution_count": 4,
      "outputs": []
    },
    {
      "cell_type": "code",
      "source": [
        "lm.fit(X,Y)"
      ],
      "metadata": {
        "id": "xDul2CERNvo3",
        "outputId": "51279ce8-d07e-49ec-cbe5-621bf4d3cc07",
        "colab": {
          "base_uri": "https://localhost:8080/"
        }
      },
      "execution_count": 5,
      "outputs": [
        {
          "output_type": "execute_result",
          "data": {
            "text/plain": [
              "LinearRegression()"
            ]
          },
          "metadata": {},
          "execution_count": 5
        }
      ]
    },
    {
      "cell_type": "code",
      "source": [
        "Yhat=lm.predict(X)\n",
        "Yhat[0:5]  "
      ],
      "metadata": {
        "id": "loWvD92pOCPU",
        "outputId": "12738fa3-55e7-4318-c173-a715f238d565",
        "colab": {
          "base_uri": "https://localhost:8080/"
        }
      },
      "execution_count": 6,
      "outputs": [
        {
          "output_type": "execute_result",
          "data": {
            "text/plain": [
              "array([16236.50464347, 16236.50464347, 17058.23802179, 13771.3045085 ,\n",
              "       20345.17153508])"
            ]
          },
          "metadata": {},
          "execution_count": 6
        }
      ]
    },
    {
      "cell_type": "code",
      "source": [
        "lm.intercept_"
      ],
      "metadata": {
        "id": "1UcgisLjOEYA",
        "outputId": "cc4b79a9-346a-42e0-f76c-6d2039d4476e",
        "colab": {
          "base_uri": "https://localhost:8080/"
        }
      },
      "execution_count": 7,
      "outputs": [
        {
          "output_type": "execute_result",
          "data": {
            "text/plain": [
              "38423.3058581574"
            ]
          },
          "metadata": {},
          "execution_count": 7
        }
      ]
    },
    {
      "cell_type": "code",
      "source": [
        "lm.coef_"
      ],
      "metadata": {
        "id": "Hirko_yqOF_m",
        "outputId": "8a2a1936-b5ea-4dee-cff0-9bffb6304c05",
        "colab": {
          "base_uri": "https://localhost:8080/"
        }
      },
      "execution_count": 8,
      "outputs": [
        {
          "output_type": "execute_result",
          "data": {
            "text/plain": [
              "array([-821.73337832])"
            ]
          },
          "metadata": {},
          "execution_count": 8
        }
      ]
    },
    {
      "cell_type": "code",
      "source": [
        "lm.fit(df[['engine-size']], df[['price']])\n",
        "lm\n"
      ],
      "metadata": {
        "id": "uEZS7kj9OTHe",
        "outputId": "630326f7-1504-45ec-e505-e1e45aa2f966",
        "colab": {
          "base_uri": "https://localhost:8080/"
        }
      },
      "execution_count": 10,
      "outputs": [
        {
          "output_type": "execute_result",
          "data": {
            "text/plain": [
              "LinearRegression()"
            ]
          },
          "metadata": {},
          "execution_count": 10
        }
      ]
    },
    {
      "cell_type": "markdown",
      "source": [
        "![Capture.PNG](data:image/png;base64,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)"
      ],
      "metadata": {
        "id": "0ix9TXQuGjf4"
      }
    }
  ]
}