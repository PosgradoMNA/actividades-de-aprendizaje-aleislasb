{
  "nbformat": 4,
  "nbformat_minor": 0,
  "metadata": {
    "colab": {
      "name": "assignment01.ipynb",
      "provenance": [],
      "toc_visible": true,
      "include_colab_link": true
    },
    "kernelspec": {
      "name": "python3",
      "display_name": "Python 3"
    },
    "language_info": {
      "name": "python"
    }
  },
  "cells": [
    {
      "cell_type": "markdown",
      "metadata": {
        "id": "view-in-github",
        "colab_type": "text"
      },
      "source": [
        "<a href=\"https://colab.research.google.com/github/PosgradoMNA/actividades-de-aprendizaje-aleislasb/blob/main/Actividad%20Semana%201.ipynb\" target=\"_parent\"><img src=\"https://colab.research.google.com/assets/colab-badge.svg\" alt=\"Open In Colab\"/></a>"
      ]
    },
    {
      "cell_type": "markdown",
      "source": [
        "# 1.1-Your First Program\n",
        "\n"
      ],
      "metadata": {
        "id": "U2lAo5LN3SJ7"
      }
    },
    {
      "cell_type": "code",
      "source": [
        "#What is in the parentheses will be executed, this is called an argument. Every statement goes into a cell.\n",
        "print(\"Hello Python 101\")\n"
      ],
      "metadata": {
        "id": "mxM_WppZPMFx",
        "outputId": "9a5113f8-1f0d-4c65-9cd6-846ef21fa410",
        "colab": {
          "base_uri": "https://localhost:8080/"
        }
      },
      "execution_count": null,
      "outputs": [
        {
          "output_type": "stream",
          "name": "stdout",
          "text": [
            "Hello Python 101\n",
            "Hello\n",
            "World!\n"
          ]
        }
      ]
    },
    {
      "cell_type": "code",
      "source": [
        "print(\"Hello\\nWorld!\") #The expression /n makes a space.\n"
      ],
      "metadata": {
        "colab": {
          "base_uri": "https://localhost:8080/"
        },
        "id": "MJQRbTtKAubS",
        "outputId": "a8c009c4-ae0b-4d38-9f9c-bac6fc1b25da"
      },
      "execution_count": null,
      "outputs": [
        {
          "output_type": "stream",
          "name": "stdout",
          "text": [
            "Hello\n",
            "World!\n"
          ]
        }
      ]
    },
    {
      "cell_type": "code",
      "source": [
        "# print('Hello World!') does not execute nothing."
      ],
      "metadata": {
        "id": "dpE9Uei2A0DK"
      },
      "execution_count": null,
      "outputs": []
    },
    {
      "cell_type": "markdown",
      "source": [
        "# 1.2-Types"
      ],
      "metadata": {
        "id": "oW-sG3CqACeC"
      }
    },
    {
      "cell_type": "code",
      "source": [
        "type(\"Hello World\")\n",
        "#The function type, finds out which type of information do we have in parentheses, in this case,text.\n"
      ],
      "metadata": {
        "colab": {
          "base_uri": "https://localhost:8080/"
        },
        "id": "aSxkEyKHAMbx",
        "outputId": "07b9aa25-a4f7-4290-a8a4-bf135119d4f6"
      },
      "execution_count": null,
      "outputs": [
        {
          "output_type": "execute_result",
          "data": {
            "text/plain": [
              "str"
            ]
          },
          "metadata": {},
          "execution_count": 13
        }
      ]
    },
    {
      "cell_type": "code",
      "source": [
        "type(\"1.1\")\n",
        "#The function evaluates that eventhough we have a number the symbols \"\" makes that information to text.\n",
        "\n"
      ],
      "metadata": {
        "colab": {
          "base_uri": "https://localhost:8080/"
        },
        "id": "k60s5b8GA-1F",
        "outputId": "6da78b4f-0679-4cf0-e6d5-5a2821e05900"
      },
      "execution_count": null,
      "outputs": [
        {
          "output_type": "execute_result",
          "data": {
            "text/plain": [
              "str"
            ]
          },
          "metadata": {},
          "execution_count": 14
        }
      ]
    },
    {
      "cell_type": "code",
      "source": [
        "bool(int(1))\n",
        "#Conversion from integer to a boolean value.\n"
      ],
      "metadata": {
        "colab": {
          "base_uri": "https://localhost:8080/"
        },
        "id": "fK6JIbhqBAEq",
        "outputId": "7b242eb7-8f2a-4312-bb29-557cfa298a29"
      },
      "execution_count": null,
      "outputs": [
        {
          "output_type": "execute_result",
          "data": {
            "text/plain": [
              "True"
            ]
          },
          "metadata": {},
          "execution_count": 17
        }
      ]
    },
    {
      "cell_type": "code",
      "source": [
        "type(bool(int(1)))\n",
        "#In this statement we ask which type of information do we have after converting it to a boolean value."
      ],
      "metadata": {
        "colab": {
          "base_uri": "https://localhost:8080/"
        },
        "id": "3zVLyRpfCIzY",
        "outputId": "61287cdf-4a85-4910-bf57-e8726667d645"
      },
      "execution_count": null,
      "outputs": [
        {
          "output_type": "execute_result",
          "data": {
            "text/plain": [
              "bool"
            ]
          },
          "metadata": {},
          "execution_count": 18
        }
      ]
    },
    {
      "cell_type": "markdown",
      "source": [
        "# 1.3-Expressions and Varibles"
      ],
      "metadata": {
        "id": "C4MjbB4B3kEg"
      }
    },
    {
      "cell_type": "code",
      "source": [
        "#A expression describe the type of operation we like to perform. \n",
        "43+60+16+41 \n",
        "#On this operation the number is called operands and the math symbols are called operators."
      ],
      "metadata": {
        "id": "3imXta0Q3tAF",
        "outputId": "014f4356-b59f-4359-b010-3ffabc8c6878",
        "colab": {
          "base_uri": "https://localhost:8080/"
        }
      },
      "execution_count": null,
      "outputs": [
        {
          "output_type": "execute_result",
          "data": {
            "text/plain": [
              "160"
            ]
          },
          "metadata": {},
          "execution_count": 1
        }
      ]
    },
    {
      "cell_type": "code",
      "source": [
        "#// is an operator that results into a integer.\n",
        "25//4"
      ],
      "metadata": {
        "id": "OX1V4pkM4yCj",
        "outputId": "b07e0779-d96f-43cf-8e38-ab89e66ccee7",
        "colab": {
          "base_uri": "https://localhost:8080/"
        }
      },
      "execution_count": null,
      "outputs": [
        {
          "output_type": "execute_result",
          "data": {
            "text/plain": [
              "6"
            ]
          },
          "metadata": {},
          "execution_count": 3
        }
      ]
    },
    {
      "cell_type": "code",
      "source": [
        "#When updating a variable you can give a value with the sign equal.\n",
        "Prueba_Phyton=15\n",
        "#The symbol _ represents the start of a new world in a variable."
      ],
      "metadata": {
        "id": "dVfnD8Hc46P1"
      },
      "execution_count": null,
      "outputs": []
    },
    {
      "cell_type": "code",
      "source": [
        "#When updating a variable value, it is just necessary to give the new value, the other value is not important anymore.\n",
        "Prueba_Phyton:10"
      ],
      "metadata": {
        "id": "iT0ZwRtk6B-7"
      },
      "execution_count": null,
      "outputs": []
    },
    {
      "cell_type": "markdown",
      "source": [
        "#1.4-String Operations"
      ],
      "metadata": {
        "id": "En8hT5Pg7qn7"
      }
    },
    {
      "cell_type": "code",
      "source": [
        "#The variable Letters has the value \"ABCDEFGHIJK\", this is a string and it is represented by the symbols \"\" or ''. Here we are using normal characters. \n",
        "Letters=\"ABCDEFGHIJK\"\n",
        "Letters[0:4]\n"
      ],
      "metadata": {
        "id": "BGpOx04Y7w7L",
        "colab": {
          "base_uri": "https://localhost:8080/"
        },
        "outputId": "a2077815-3f16-467d-83c3-b1092a41813b"
      },
      "execution_count": null,
      "outputs": [
        {
          "output_type": "execute_result",
          "data": {
            "text/plain": [
              "11"
            ]
          },
          "metadata": {},
          "execution_count": 9
        }
      ]
    },
    {
      "cell_type": "code",
      "source": [
        "#If we want to check the length of the text, we write the function len.\n",
        "Letters_2=\"ABCDEFGHIJK\"\n",
        "len(Letters_2)\n"
      ],
      "metadata": {
        "colab": {
          "base_uri": "https://localhost:8080/"
        },
        "id": "h6q8boGzp77O",
        "outputId": "931b1f93-495d-40cb-ed3d-142c5619f58c"
      },
      "execution_count": null,
      "outputs": [
        {
          "output_type": "execute_result",
          "data": {
            "text/plain": [
              "11"
            ]
          },
          "metadata": {},
          "execution_count": 10
        }
      ]
    },
    {
      "cell_type": "code",
      "source": [
        "Good=\"GsoAo+d\"\n",
        "Good[::2]\n",
        "#We can slice strings, from the original text we extract every even position that we have,according to index. "
      ],
      "metadata": {
        "colab": {
          "base_uri": "https://localhost:8080/",
          "height": 35
        },
        "id": "bSvPFDM4qjbg",
        "outputId": "3dbe100a-faba-418c-ccf1-cc27e4df8846"
      },
      "execution_count": null,
      "outputs": [
        {
          "output_type": "execute_result",
          "data": {
            "text/plain": [
              "'Good'"
            ],
            "application/vnd.google.colaboratory.intrinsic+json": {
              "type": "string"
            }
          },
          "metadata": {},
          "execution_count": 11
        }
      ]
    },
    {
      "cell_type": "code",
      "source": [
        "#We can use some functions in order to change the text, such has upper or replace, just to mention a few.\n",
        "Prob=\"uppercase\"\n",
        "Prob.upper()\n"
      ],
      "metadata": {
        "colab": {
          "base_uri": "https://localhost:8080/",
          "height": 35
        },
        "id": "-TmMMOqZrAOE",
        "outputId": "c8653850-3f21-4772-98f2-75d3148bb286"
      },
      "execution_count": null,
      "outputs": [
        {
          "output_type": "execute_result",
          "data": {
            "text/plain": [
              "'UPPERCASE'"
            ],
            "application/vnd.google.colaboratory.intrinsic+json": {
              "type": "string"
            }
          },
          "metadata": {},
          "execution_count": 14
        }
      ]
    },
    {
      "cell_type": "code",
      "source": [
        "#We can also make spaces or tabs between the text or even represent a backslash if we want.\n",
        "print(\"Michael Jackson \\\\ is the best\")\n",
        "print(\"Michael Jackson \\n is the best\")\n",
        "print(\"Michael Jackson \\t is the best\")"
      ],
      "metadata": {
        "colab": {
          "base_uri": "https://localhost:8080/"
        },
        "id": "7GLggXzZrlBH",
        "outputId": "4720f04c-cc9f-40ca-a246-0b9124ba7d42"
      },
      "execution_count": null,
      "outputs": [
        {
          "output_type": "stream",
          "name": "stdout",
          "text": [
            "Michael Jackson \\ is the best\n",
            "Michael Jackson \n",
            " is the best\n",
            "Michael Jackson \t is the best\n"
          ]
        }
      ]
    },
    {
      "cell_type": "code",
      "source": [
        "#We can consult where can I find a couple of characters on a text, as a result we sill have the first value of index of this consult.\n",
        "Good.find(\"so\")"
      ],
      "metadata": {
        "colab": {
          "base_uri": "https://localhost:8080/"
        },
        "id": "F5SP118CsqsX",
        "outputId": "1c9f4340-1a60-45de-d806-14eb3089233d"
      },
      "execution_count": null,
      "outputs": [
        {
          "output_type": "execute_result",
          "data": {
            "text/plain": [
              "1"
            ]
          },
          "metadata": {},
          "execution_count": 22
        }
      ]
    },
    {
      "cell_type": "markdown",
      "source": [
        "#Review Questions"
      ],
      "metadata": {
        "id": "31WqVTwltQLW"
      }
    },
    {
      "cell_type": "code",
      "source": [
        "#Mathematical Operations made by order.\n",
        "3+2*2"
      ],
      "metadata": {
        "colab": {
          "base_uri": "https://localhost:8080/"
        },
        "id": "-n4RLhHrtSfW",
        "outputId": "a0cf2c76-95a3-4552-f813-5aec8a092c4e"
      },
      "execution_count": null,
      "outputs": [
        {
          "output_type": "execute_result",
          "data": {
            "text/plain": [
              "7"
            ]
          },
          "metadata": {},
          "execution_count": 23
        }
      ]
    },
    {
      "cell_type": "code",
      "source": [
        "#Slice from the first character to the assigned to number two.\n",
        "name=\"Lizz\"\n",
        "print(name[0:2])"
      ],
      "metadata": {
        "colab": {
          "base_uri": "https://localhost:8080/"
        },
        "id": "K8y630LotZG-",
        "outputId": "02672fc4-244e-4f3d-ec3f-452d959d85f5"
      },
      "execution_count": null,
      "outputs": [
        {
          "output_type": "stream",
          "name": "stdout",
          "text": [
            "Li\n"
          ]
        }
      ]
    },
    {
      "cell_type": "code",
      "source": [
        "#Slice every second character incluiding the character assigned to 0.\n",
        "var=\"01234567\"\n",
        "print(var[::2])"
      ],
      "metadata": {
        "colab": {
          "base_uri": "https://localhost:8080/"
        },
        "id": "S5NePBCFtq5S",
        "outputId": "6ba3a0e0-28d4-4f3f-d475-3fbb0028151a"
      },
      "execution_count": null,
      "outputs": [
        {
          "output_type": "stream",
          "name": "stdout",
          "text": [
            "0246\n"
          ]
        }
      ]
    },
    {
      "cell_type": "code",
      "source": [
        "#Merges two strings. \n",
        "\"1\"+\"2\""
      ],
      "metadata": {
        "colab": {
          "base_uri": "https://localhost:8080/",
          "height": 35
        },
        "id": "yjfTqzI1t1Q7",
        "outputId": "c723e133-e4e1-4ef6-c01d-171ec0738fc8"
      },
      "execution_count": null,
      "outputs": [
        {
          "output_type": "execute_result",
          "data": {
            "text/plain": [
              "'12'"
            ],
            "application/vnd.google.colaboratory.intrinsic+json": {
              "type": "string"
            }
          },
          "metadata": {},
          "execution_count": 26
        }
      ]
    },
    {
      "cell_type": "code",
      "source": [
        "#Converts every character into uppercase.\n",
        "myvar=\"hello\"\n",
        "myvar.upper()"
      ],
      "metadata": {
        "colab": {
          "base_uri": "https://localhost:8080/",
          "height": 35
        },
        "id": "Qbc78mbtt7cp",
        "outputId": "6f0fb0ba-2742-434c-b381-957fefcc691b"
      },
      "execution_count": null,
      "outputs": [
        {
          "output_type": "execute_result",
          "data": {
            "text/plain": [
              "'HELLO'"
            ],
            "application/vnd.google.colaboratory.intrinsic+json": {
              "type": "string"
            }
          },
          "metadata": {},
          "execution_count": 27
        }
      ]
    },
    {
      "cell_type": "markdown",
      "source": [
        "#2.1 Lists and Tuples"
      ],
      "metadata": {
        "id": "9kBCFtsLDgEY"
      }
    },
    {
      "cell_type": "code",
      "source": [
        "#With this function we can consult the last character of the tuple, since -1 index value is given to the last character of every tuple.\n",
        "A=(0,1,2,3)\n",
        "print(A[-1])\n",
        "#Or also consulting its positive index value.\n",
        "print(A[3])"
      ],
      "metadata": {
        "id": "DNl_JysP5Ec7",
        "outputId": "b0493339-8a14-4cbe-8dfa-04dae5e269d0",
        "colab": {
          "base_uri": "https://localhost:8080/"
        }
      },
      "execution_count": 4,
      "outputs": [
        {
          "output_type": "stream",
          "name": "stdout",
          "text": [
            "3\n",
            "3\n"
          ]
        }
      ]
    },
    {
      "cell_type": "code",
      "source": [
        "#With this function we are consulting all the values that goes after the first character of the list.\n",
        "B=[\"a\",\"b\",\"c\"]\n",
        "print(B[1:])"
      ],
      "metadata": {
        "id": "A4qYbi1p5sWK",
        "outputId": "51625fb4-2766-42e7-939c-220327564406",
        "colab": {
          "base_uri": "https://localhost:8080/"
        }
      },
      "execution_count": 6,
      "outputs": [
        {
          "output_type": "stream",
          "name": "stdout",
          "text": [
            "['b', 'c']\n"
          ]
        }
      ]
    },
    {
      "cell_type": "code",
      "source": [
        "#We can add more values to tuples and lists, this adds more characters to the list.\n",
        "Tuple1=(\"disco\", 10,1.2)\n",
        "Tuple2=Tuple1+(\"hard rock\",10)\n",
        "print(Tuple2)"
      ],
      "metadata": {
        "id": "rbbIAHCS6LCf",
        "outputId": "bbed231b-2edd-453c-f98c-ed900ebdb03e",
        "colab": {
          "base_uri": "https://localhost:8080/"
        }
      },
      "execution_count": 7,
      "outputs": [
        {
          "output_type": "stream",
          "name": "stdout",
          "text": [
            "('disco', 10, 1.2, 'hard rock', 10)\n"
          ]
        }
      ]
    },
    {
      "cell_type": "code",
      "source": [
        "#Consults the characters from a tuple that are conformed by other tuples, just specifying which tuple I want to consult and which character of the values.\n",
        "NT=(1,2,(\"pop\", \"rock\"), (3,4), (\"disco\", (1,2)))\n",
        "print(NT[2][1][2])"
      ],
      "metadata": {
        "id": "l84MHV_x6q3S",
        "outputId": "c2f08914-8f8d-47c4-dbef-9ff696e91210",
        "colab": {
          "base_uri": "https://localhost:8080/"
        }
      },
      "execution_count": 10,
      "outputs": [
        {
          "output_type": "stream",
          "name": "stdout",
          "text": [
            "c\n"
          ]
        }
      ]
    },
    {
      "cell_type": "code",
      "source": [
        "#The difference between extend and append is that extend make the number of character larger and append just make one addition.\n",
        "L=[\"Michael Jackson\",10.1,1982]\n",
        "L.extend([\"pop\", 10])\n",
        "print(L)\n",
        "\n",
        "S=[\"Prueba\",1,2,3,4]\n",
        "S.append([\"Prueba2\",1])\n",
        "print(S)\n"
      ],
      "metadata": {
        "id": "yCelQs2A7sZ2",
        "outputId": "adc4bbe2-253a-4815-ef2b-f7660f0b332b",
        "colab": {
          "base_uri": "https://localhost:8080/"
        }
      },
      "execution_count": 17,
      "outputs": [
        {
          "output_type": "stream",
          "name": "stdout",
          "text": [
            "['Michael Jackson', 10.1, 1982, 'pop', 10]\n",
            "['Prueba', 1, 2, 3, 4, ['Prueba2', 1]]\n"
          ]
        }
      ]
    },
    {
      "cell_type": "code",
      "source": [
        "#In order to delete a character from a list we use the function del and indicates the position of the character.\n",
        "del(S[2])\n",
        "print(S)"
      ],
      "metadata": {
        "id": "lLOD5bGA9D-O",
        "outputId": "8b18b207-a808-46d8-cd15-c58bc7f5b4f7",
        "colab": {
          "base_uri": "https://localhost:8080/"
        }
      },
      "execution_count": 18,
      "outputs": [
        {
          "output_type": "stream",
          "name": "stdout",
          "text": [
            "['Prueba', 1, 3, 4, ['Prueba2', 1]]\n"
          ]
        }
      ]
    },
    {
      "cell_type": "code",
      "source": [
        "#In order to create a list with diferent types of information.\n",
        "a_list=[1,\"hello\", [1,2,3],True]\n",
        "a_list"
      ],
      "metadata": {
        "id": "i_ENG-0--ipY",
        "outputId": "210d1d5b-acf8-4dcd-e73a-67e4eef18587",
        "colab": {
          "base_uri": "https://localhost:8080/"
        }
      },
      "execution_count": 19,
      "outputs": [
        {
          "output_type": "execute_result",
          "data": {
            "text/plain": [
              "[1, 'hello', [1, 2, 3], True]"
            ]
          },
          "metadata": {},
          "execution_count": 19
        }
      ]
    },
    {
      "cell_type": "code",
      "source": [
        "#Checks the character assigned to number 1 according to index.\n",
        "a_list[1]"
      ],
      "metadata": {
        "id": "nTDoG8Mw_yng",
        "outputId": "11b73e9c-4d05-4e0e-96c7-0b38f93c3d00",
        "colab": {
          "base_uri": "https://localhost:8080/",
          "height": 35
        }
      },
      "execution_count": 20,
      "outputs": [
        {
          "output_type": "execute_result",
          "data": {
            "text/plain": [
              "'hello'"
            ],
            "application/vnd.google.colaboratory.intrinsic+json": {
              "type": "string"
            }
          },
          "metadata": {},
          "execution_count": 20
        }
      ]
    },
    {
      "cell_type": "code",
      "source": [
        "#Retrieves the elements stored according to index from 1 to 3.\n",
        "a_list[1:4]"
      ],
      "metadata": {
        "id": "yke6eduvAQij"
      },
      "execution_count": null,
      "outputs": []
    },
    {
      "cell_type": "code",
      "source": [
        "#The function concatenates two lists.\n",
        "A=[1,\"a\"]\n",
        "B=[2,1,\"d\"]\n",
        "A+B"
      ],
      "metadata": {
        "id": "DqeUxlK4AcN0",
        "outputId": "f724e7fd-cf68-413d-a920-b8abc412b63c",
        "colab": {
          "base_uri": "https://localhost:8080/"
        }
      },
      "execution_count": 21,
      "outputs": [
        {
          "output_type": "execute_result",
          "data": {
            "text/plain": [
              "[1, 'a', 2, 1, 'd']"
            ]
          },
          "metadata": {},
          "execution_count": 21
        }
      ]
    }
  ]
}