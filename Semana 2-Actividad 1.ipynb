{
  "nbformat": 4,
  "nbformat_minor": 0,
  "metadata": {
    "colab": {
      "name": "assignment01.ipynb",
      "provenance": [],
      "include_colab_link": true
    },
    "kernelspec": {
      "name": "python3",
      "display_name": "Python 3"
    },
    "language_info": {
      "name": "python"
    }
  },
  "cells": [
    {
      "cell_type": "markdown",
      "metadata": {
        "id": "view-in-github",
        "colab_type": "text"
      },
      "source": [
        "<a href=\"https://colab.research.google.com/github/PosgradoMNA/actividades-de-aprendizaje-aleislasb/blob/main/Semana%202-Actividad%201.ipynb\" target=\"_parent\"><img src=\"https://colab.research.google.com/assets/colab-badge.svg\" alt=\"Open In Colab\"/></a>"
      ]
    },
    {
      "cell_type": "markdown",
      "source": [
        "#4.1 Reading Files with Open"
      ],
      "metadata": {
        "id": "O_EWsA9O8E6r"
      }
    },
    {
      "cell_type": "code",
      "source": [
        "#The open function gets a file object. We need to write two parameters, the file and the mode, the file path divides into two sections: the file directory and at the end the file name. \n",
        "#Some values for mode are reading, appending and writing.\n",
        "File1=open(\"/resources/data/Example2.txt\",\"w\")\n",
        "print(File1.name)\n",
        "\n",
        "#To view name or mode to reading function use. \n",
        "File1.name \n",
        "File1.mode \n",
        "#All open statements should have at the end a close function\n",
        "File1.close()"
      ],
      "metadata": {
        "id": "BB9kiBFLrKxn"
      },
      "execution_count": null,
      "outputs": []
    },
    {
      "cell_type": "code",
      "source": [
        "#Using a with statement does not need a close function since it runs everything that its in the block and then closes.\n",
        "with open (\"Example1.txt\", \"r\") as File1: \n",
        "  file_stuff=File1.read()\n",
        "  print(file_stuff)\n",
        "\n",
        "print(File1.closed)\n",
        "print(file_stuff)\n",
        "\n",
        "#The method read lines reads everything that its on the file. When we used it twice reads each line individually.\n",
        "file_stuff=File1.readlines()\n",
        "\n",
        "#When we add a number between parentheses we are specifying which characters do we like to read.\n",
        "file_stuff=File1.readlines(5)\n",
        "print(file_stuff) "
      ],
      "metadata": {
        "id": "qqSmAk1SG_MV"
      },
      "execution_count": null,
      "outputs": []
    },
    {
      "cell_type": "markdown",
      "source": [
        "#4.2 Writing Files with Open"
      ],
      "metadata": {
        "id": "TaJ3XViaNgTQ"
      }
    },
    {
      "cell_type": "code",
      "source": [
        "#We can use .write to add text to object file. In this example this creates a file called Example2.txt and writes This is line A into the file.\n",
        "with open(\"/resources/data/Example2.txt\",\"w\") as File1:\n",
        "  File1.write(\"This is line A\")\n",
        "\n",
        "#For each iteration of the function .write each value is added to the file.\n",
        "with open(\"/resources/data/Example2.txt\",\"w\") as File1:\n",
        "  File1.write(\"This is line A\")\n",
        "  File1.write(\"This is line B\")"
      ],
      "metadata": {
        "id": "0pbHyhNmrNsH"
      },
      "execution_count": null,
      "outputs": []
    },
    {
      "cell_type": "code",
      "source": [
        "#The mode append uses an existing file and adds more information to that file.\n",
        "with open(\"/resources/data/Example2.txt\",\"a\") as File1:\n",
        "  File1.write(\"This is line A\")"
      ],
      "metadata": {
        "id": "rMmZpeo0sweS"
      },
      "execution_count": null,
      "outputs": []
    },
    {
      "cell_type": "code",
      "source": [
        "#In order to copy one file to another we can open two files. On which we are specifying which do we like to copy from as it is in the example as readfile and to which do we like to copy, expressed as writefile.\n",
        "with open(\"Example1.txt\",\"r\") as readfile:\n",
        "  with open(\"Example3.txt\",\"w\") as writefile:\n",
        "    for line in readfile:\n",
        "      writefile.write(line)\n",
        "#This function iterates until there is no more lines to copy and close the object."
      ],
      "metadata": {
        "id": "rEt7s75vtocj"
      },
      "execution_count": null,
      "outputs": []
    },
    {
      "cell_type": "markdown",
      "source": [
        "4.2 Exercise"
      ],
      "metadata": {
        "id": "wP_Um9exv5Js"
      }
    },
    {
      "cell_type": "code",
      "source": [
        "#Run this prior to starting the exercise\n",
        "from random import randint as rnd\n",
        "\n",
        "memReg = 'members.txt'\n",
        "exReg = 'inactive.txt'\n",
        "fee =('yes','no')\n",
        "\n",
        "def genFiles(current,old):\n",
        "    with open(current,'w+') as writefile: \n",
        "        writefile.write('Membership No  Date Joined  Active  \\n')\n",
        "        data = \"{:^13}  {:<11}  {:<6}\\n\"\n",
        "\n",
        "        for rowno in range(20):\n",
        "            date = str(rnd(2015,2020))+ '-' + str(rnd(1,12))+'-'+str(rnd(1,25))\n",
        "            writefile.write(data.format(rnd(10000,99999),date,fee[rnd(0,1)]))\n",
        "\n",
        "\n",
        "    with open(old,'w+') as writefile: \n",
        "        writefile.write('Membership No  Date Joined  Active  \\n')\n",
        "        data = \"{:^13}  {:<11}  {:<6}\\n\"\n",
        "        for rowno in range(3):\n",
        "            date = str(rnd(2015,2020))+ '-' + str(rnd(1,12))+'-'+str(rnd(1,25))\n",
        "            writefile.write(data.format(rnd(10000,99999),date,fee[1]))"
      ],
      "metadata": {
        "id": "0FF3gl-Ev-To"
      },
      "execution_count": 9,
      "outputs": []
    },
    {
      "cell_type": "code",
      "source": [
        "#First open the file for reading mode and on the other one which we are going to add the information.\n",
        "def cleanFiles(currentMem,exMem):\n",
        "  with open(currentMem, \"r+\") as writeFile: \n",
        "    with open(exMem,\"a+\") as appendFile:\n",
        "      writeFile.seek(0)\n",
        "      members= writeFile.readlines()\n",
        "      header=members[0]\n",
        "      members.pop(0)\n",
        "#Reads each member in the currentMem.\n",
        "      inactive = [member for member in members if (\"no\" in member)]\n",
        "      writeFile.seek(0)\n",
        "      writeFile.write(header)\n",
        "      for member in members:\n",
        "          if(member in inactive):\n",
        "            appendFile.write(member)\n",
        "          else:\n",
        "            writeFile.write(member)\n",
        "      writeFile.truncate()\n",
        "#And then iterates through the members ans created the new file.\n",
        "  memReg=\"members.txt\"\n",
        "  exReg=\"inactive.txt\"\n",
        "  cleanFiles(memReg,exReg)\n",
        "\n",
        "  "
      ],
      "metadata": {
        "id": "DIOyq3zmyvhv"
      },
      "execution_count": 14,
      "outputs": []
    },
    {
      "cell_type": "markdown",
      "source": [
        "#4.3 Loading Data with Pandas."
      ],
      "metadata": {
        "id": "3XNn2ZCT6PVS"
      }
    },
    {
      "cell_type": "code",
      "source": [
        "#Pandas is a library for data analysis, it has pre-built classes and functions. And \n",
        "import pandas as pand\n",
        "csv_path=\"file1.csv\""
      ],
      "metadata": {
        "id": "H6OtiAxw6WJ4"
      },
      "execution_count": null,
      "outputs": []
    },
    {
      "cell_type": "code",
      "source": [
        "import pandas as banana\n",
        "\n",
        "df=banana.DataFrame({'a':[11,21,31],'b':[21,22,23]})\n",
        "\n",
        "df.head()"
      ],
      "metadata": {
        "id": "mt9dDBzI9HP_",
        "outputId": "f190cf2b-1948-48dd-dbd1-e756b5bf71d2",
        "colab": {
          "base_uri": "https://localhost:8080/",
          "height": 143
        }
      },
      "execution_count": 17,
      "outputs": [
        {
          "output_type": "execute_result",
          "data": {
            "text/plain": [
              "    a   b\n",
              "0  11  21\n",
              "1  21  22\n",
              "2  31  23"
            ],
            "text/html": [
              "\n",
              "  <div id=\"df-977c3b56-e51c-4ce6-9047-64cdab7580dc\">\n",
              "    <div class=\"colab-df-container\">\n",
              "      <div>\n",
              "<style scoped>\n",
              "    .dataframe tbody tr th:only-of-type {\n",
              "        vertical-align: middle;\n",
              "    }\n",
              "\n",
              "    .dataframe tbody tr th {\n",
              "        vertical-align: top;\n",
              "    }\n",
              "\n",
              "    .dataframe thead th {\n",
              "        text-align: right;\n",
              "    }\n",
              "</style>\n",
              "<table border=\"1\" class=\"dataframe\">\n",
              "  <thead>\n",
              "    <tr style=\"text-align: right;\">\n",
              "      <th></th>\n",
              "      <th>a</th>\n",
              "      <th>b</th>\n",
              "    </tr>\n",
              "  </thead>\n",
              "  <tbody>\n",
              "    <tr>\n",
              "      <th>0</th>\n",
              "      <td>11</td>\n",
              "      <td>21</td>\n",
              "    </tr>\n",
              "    <tr>\n",
              "      <th>1</th>\n",
              "      <td>21</td>\n",
              "      <td>22</td>\n",
              "    </tr>\n",
              "    <tr>\n",
              "      <th>2</th>\n",
              "      <td>31</td>\n",
              "      <td>23</td>\n",
              "    </tr>\n",
              "  </tbody>\n",
              "</table>\n",
              "</div>\n",
              "      <button class=\"colab-df-convert\" onclick=\"convertToInteractive('df-977c3b56-e51c-4ce6-9047-64cdab7580dc')\"\n",
              "              title=\"Convert this dataframe to an interactive table.\"\n",
              "              style=\"display:none;\">\n",
              "        \n",
              "  <svg xmlns=\"http://www.w3.org/2000/svg\" height=\"24px\"viewBox=\"0 0 24 24\"\n",
              "       width=\"24px\">\n",
              "    <path d=\"M0 0h24v24H0V0z\" fill=\"none\"/>\n",
              "    <path d=\"M18.56 5.44l.94 2.06.94-2.06 2.06-.94-2.06-.94-.94-2.06-.94 2.06-2.06.94zm-11 1L8.5 8.5l.94-2.06 2.06-.94-2.06-.94L8.5 2.5l-.94 2.06-2.06.94zm10 10l.94 2.06.94-2.06 2.06-.94-2.06-.94-.94-2.06-.94 2.06-2.06.94z\"/><path d=\"M17.41 7.96l-1.37-1.37c-.4-.4-.92-.59-1.43-.59-.52 0-1.04.2-1.43.59L10.3 9.45l-7.72 7.72c-.78.78-.78 2.05 0 2.83L4 21.41c.39.39.9.59 1.41.59.51 0 1.02-.2 1.41-.59l7.78-7.78 2.81-2.81c.8-.78.8-2.07 0-2.86zM5.41 20L4 18.59l7.72-7.72 1.47 1.35L5.41 20z\"/>\n",
              "  </svg>\n",
              "      </button>\n",
              "      \n",
              "  <style>\n",
              "    .colab-df-container {\n",
              "      display:flex;\n",
              "      flex-wrap:wrap;\n",
              "      gap: 12px;\n",
              "    }\n",
              "\n",
              "    .colab-df-convert {\n",
              "      background-color: #E8F0FE;\n",
              "      border: none;\n",
              "      border-radius: 50%;\n",
              "      cursor: pointer;\n",
              "      display: none;\n",
              "      fill: #1967D2;\n",
              "      height: 32px;\n",
              "      padding: 0 0 0 0;\n",
              "      width: 32px;\n",
              "    }\n",
              "\n",
              "    .colab-df-convert:hover {\n",
              "      background-color: #E2EBFA;\n",
              "      box-shadow: 0px 1px 2px rgba(60, 64, 67, 0.3), 0px 1px 3px 1px rgba(60, 64, 67, 0.15);\n",
              "      fill: #174EA6;\n",
              "    }\n",
              "\n",
              "    [theme=dark] .colab-df-convert {\n",
              "      background-color: #3B4455;\n",
              "      fill: #D2E3FC;\n",
              "    }\n",
              "\n",
              "    [theme=dark] .colab-df-convert:hover {\n",
              "      background-color: #434B5C;\n",
              "      box-shadow: 0px 1px 3px 1px rgba(0, 0, 0, 0.15);\n",
              "      filter: drop-shadow(0px 1px 2px rgba(0, 0, 0, 0.3));\n",
              "      fill: #FFFFFF;\n",
              "    }\n",
              "  </style>\n",
              "\n",
              "      <script>\n",
              "        const buttonEl =\n",
              "          document.querySelector('#df-977c3b56-e51c-4ce6-9047-64cdab7580dc button.colab-df-convert');\n",
              "        buttonEl.style.display =\n",
              "          google.colab.kernel.accessAllowed ? 'block' : 'none';\n",
              "\n",
              "        async function convertToInteractive(key) {\n",
              "          const element = document.querySelector('#df-977c3b56-e51c-4ce6-9047-64cdab7580dc');\n",
              "          const dataTable =\n",
              "            await google.colab.kernel.invokeFunction('convertToInteractive',\n",
              "                                                     [key], {});\n",
              "          if (!dataTable) return;\n",
              "\n",
              "          const docLinkHtml = 'Like what you see? Visit the ' +\n",
              "            '<a target=\"_blank\" href=https://colab.research.google.com/notebooks/data_table.ipynb>data table notebook</a>'\n",
              "            + ' to learn more about interactive tables.';\n",
              "          element.innerHTML = '';\n",
              "          dataTable['output_type'] = 'display_data';\n",
              "          await google.colab.output.renderOutput(dataTable, element);\n",
              "          const docLink = document.createElement('div');\n",
              "          docLink.innerHTML = docLinkHtml;\n",
              "          element.appendChild(docLink);\n",
              "        }\n",
              "      </script>\n",
              "    </div>\n",
              "  </div>\n",
              "  "
            ]
          },
          "metadata": {},
          "execution_count": 17
        }
      ]
    }
  ]
}