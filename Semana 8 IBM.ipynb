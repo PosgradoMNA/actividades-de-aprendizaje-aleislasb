{
  "nbformat": 4,
  "nbformat_minor": 0,
  "metadata": {
    "colab": {
      "name": "assignment01.ipynb",
      "provenance": [],
      "include_colab_link": true
    },
    "kernelspec": {
      "name": "python3",
      "display_name": "Python 3"
    },
    "language_info": {
      "name": "python"
    }
  },
  "cells": [
    {
      "cell_type": "markdown",
      "metadata": {
        "id": "view-in-github",
        "colab_type": "text"
      },
      "source": [
        "<a href=\"https://colab.research.google.com/github/PosgradoMNA/actividades-de-aprendizaje-aleislasb/blob/main/Semana%208%20IBM.ipynb\" target=\"_parent\"><img src=\"https://colab.research.google.com/assets/colab-badge.svg\" alt=\"Open In Colab\"/></a>"
      ]
    },
    {
      "cell_type": "markdown",
      "source": [
        "#Semana 8: Data Analysis in Python (IBM)"
      ],
      "metadata": {
        "id": "es9_L1ollpax"
      }
    },
    {
      "cell_type": "markdown",
      "source": [
        "5.1 Model Evaluation and Refinement"
      ],
      "metadata": {
        "id": "V7qc5WFnmETx"
      }
    },
    {
      "cell_type": "code",
      "source": [
        "#The objective is to have a certain model that works in the real world and performs in a really optimal way. "
      ],
      "metadata": {
        "id": "Weot_4tlmJ81"
      },
      "execution_count": null,
      "outputs": []
    },
    {
      "cell_type": "markdown",
      "source": [
        "5.2 Model Evaluation"
      ],
      "metadata": {
        "id": "zKh3Vjffm9lz"
      }
    },
    {
      "cell_type": "code",
      "source": [
        "#Model Evaluation has the porpuse to have an acurrate an well developed model in order to have good estimated values. \n",
        "#This is conformed by splitting the complete data in two parts the training and testing data, this uses for example 70% of the stored data to traing the model and the other 30% to predict, our training and testing split needs to be proporcional since we do not want to have estimated values way far form what we are expecting.\n",
        "#The following formula evaluates all the data set, splitting the complete data in training and test.\n",
        "train_test_split() \n",
        "#The cross validation formula is used for dividing the complete dataset and then iterating each part as training and test data, in order to have each part evaluated and a better acurrance in our predicted model."
      ],
      "metadata": {
        "id": "rtTEL7sVnBMU"
      },
      "execution_count": null,
      "outputs": []
    },
    {
      "cell_type": "markdown",
      "source": [
        "5.3 Overfitting, Underfitting and Model Selection"
      ],
      "metadata": {
        "id": "pBp3TKnDuGpi"
      }
    },
    {
      "cell_type": "code",
      "source": [
        "#It is really important to know which type of behavior we are having wen a performance of data is represented, since we want to have a useful model. It is also important to consider that the noise applied to our model is part of it, we need to avoid an overfitting or underfitting, having some errors but not overfitting our model that means that it hardly will be useful. \n",
        "#A good way to know which performance is better for our model, we can calculate the r-squared, the more closer to 1, it means the more accurate it is. "
      ],
      "metadata": {
        "id": "CP_QB8N3f9Lr"
      },
      "execution_count": null,
      "outputs": []
    },
    {
      "cell_type": "markdown",
      "source": [
        "5.4 Ridge Regression"
      ],
      "metadata": {
        "id": "t78Ubmc1uMqm"
      }
    },
    {
      "cell_type": "code",
      "source": [
        "#Ridge Regression prevents overfitting. In some cases when we are having polynomial or too large coefficients, on which the purspose of ridge regression is to control the magnitude of these polynomial coefficients using alpha.\n",
        "#Alpha is selected before fitting or training the model. If alpha increases, the coefficients approach to zero, if it is zero we have overfitting.\n",
        "#Some methods are used in order to know the value of alpha, cross validation is one of them."
      ],
      "metadata": {
        "id": "2OQEAf6Qi83W"
      },
      "execution_count": null,
      "outputs": []
    },
    {
      "cell_type": "markdown",
      "source": [
        "5.5 Grid Search"
      ],
      "metadata": {
        "id": "AeLcq4TiuPZf"
      }
    },
    {
      "cell_type": "code",
      "source": [
        "#Scans through multiple free parameters that are called hyperparameters using cross validation. Basically taked the model or object that are supposed to be trained and evaluates them with different values of hyperparameters."
      ],
      "metadata": {
        "id": "uMi2gNc_oHIT"
      },
      "execution_count": null,
      "outputs": []
    },
    {
      "cell_type": "markdown",
      "source": [
        "Lab"
      ],
      "metadata": {
        "id": "ol1R9yTYuS77"
      }
    },
    {
      "cell_type": "code",
      "source": [
        "import pandas as pd\n",
        "import numpy as np\n",
        "\n",
        "path = 'https://cf-courses-data.s3.us.cloud-object-storage.appdomain.cloud/IBMDeveloperSkillsNetwork-DA0101EN-SkillsNetwork/labs/Data%20files/module_5_auto.csv'"
      ],
      "metadata": {
        "id": "umJljZJGpHsU"
      },
      "execution_count": 1,
      "outputs": []
    },
    {
      "cell_type": "code",
      "source": [
        "df = pd.read_csv(path)\n",
        "df=df._get_numeric_data()\n",
        "df.head()"
      ],
      "metadata": {
        "id": "yER1E1A5pOT8",
        "outputId": "a7ebcaf6-0faf-403b-b3f2-926b42424c32",
        "colab": {
          "base_uri": "https://localhost:8080/",
          "height": 317
        }
      },
      "execution_count": 2,
      "outputs": [
        {
          "output_type": "execute_result",
          "data": {
            "text/plain": [
              "   Unnamed: 0  Unnamed: 0.1  symboling  normalized-losses  wheel-base  \\\n",
              "0           0             0          3                122        88.6   \n",
              "1           1             1          3                122        88.6   \n",
              "2           2             2          1                122        94.5   \n",
              "3           3             3          2                164        99.8   \n",
              "4           4             4          2                164        99.4   \n",
              "\n",
              "     length     width  height  curb-weight  engine-size  ...  stroke  \\\n",
              "0  0.811148  0.890278    48.8         2548          130  ...    2.68   \n",
              "1  0.811148  0.890278    48.8         2548          130  ...    2.68   \n",
              "2  0.822681  0.909722    52.4         2823          152  ...    3.47   \n",
              "3  0.848630  0.919444    54.3         2337          109  ...    3.40   \n",
              "4  0.848630  0.922222    54.3         2824          136  ...    3.40   \n",
              "\n",
              "   compression-ratio  horsepower  peak-rpm  city-mpg  highway-mpg    price  \\\n",
              "0                9.0       111.0    5000.0        21           27  13495.0   \n",
              "1                9.0       111.0    5000.0        21           27  16500.0   \n",
              "2                9.0       154.0    5000.0        19           26  16500.0   \n",
              "3               10.0       102.0    5500.0        24           30  13950.0   \n",
              "4                8.0       115.0    5500.0        18           22  17450.0   \n",
              "\n",
              "   city-L/100km  diesel  gas  \n",
              "0     11.190476       0    1  \n",
              "1     11.190476       0    1  \n",
              "2     12.368421       0    1  \n",
              "3      9.791667       0    1  \n",
              "4     13.055556       0    1  \n",
              "\n",
              "[5 rows x 21 columns]"
            ],
            "text/html": [
              "\n",
              "  <div id=\"df-be6b5fe4-484c-4ce9-ad3d-c77ef0a2fb76\">\n",
              "    <div class=\"colab-df-container\">\n",
              "      <div>\n",
              "<style scoped>\n",
              "    .dataframe tbody tr th:only-of-type {\n",
              "        vertical-align: middle;\n",
              "    }\n",
              "\n",
              "    .dataframe tbody tr th {\n",
              "        vertical-align: top;\n",
              "    }\n",
              "\n",
              "    .dataframe thead th {\n",
              "        text-align: right;\n",
              "    }\n",
              "</style>\n",
              "<table border=\"1\" class=\"dataframe\">\n",
              "  <thead>\n",
              "    <tr style=\"text-align: right;\">\n",
              "      <th></th>\n",
              "      <th>Unnamed: 0</th>\n",
              "      <th>Unnamed: 0.1</th>\n",
              "      <th>symboling</th>\n",
              "      <th>normalized-losses</th>\n",
              "      <th>wheel-base</th>\n",
              "      <th>length</th>\n",
              "      <th>width</th>\n",
              "      <th>height</th>\n",
              "      <th>curb-weight</th>\n",
              "      <th>engine-size</th>\n",
              "      <th>...</th>\n",
              "      <th>stroke</th>\n",
              "      <th>compression-ratio</th>\n",
              "      <th>horsepower</th>\n",
              "      <th>peak-rpm</th>\n",
              "      <th>city-mpg</th>\n",
              "      <th>highway-mpg</th>\n",
              "      <th>price</th>\n",
              "      <th>city-L/100km</th>\n",
              "      <th>diesel</th>\n",
              "      <th>gas</th>\n",
              "    </tr>\n",
              "  </thead>\n",
              "  <tbody>\n",
              "    <tr>\n",
              "      <th>0</th>\n",
              "      <td>0</td>\n",
              "      <td>0</td>\n",
              "      <td>3</td>\n",
              "      <td>122</td>\n",
              "      <td>88.6</td>\n",
              "      <td>0.811148</td>\n",
              "      <td>0.890278</td>\n",
              "      <td>48.8</td>\n",
              "      <td>2548</td>\n",
              "      <td>130</td>\n",
              "      <td>...</td>\n",
              "      <td>2.68</td>\n",
              "      <td>9.0</td>\n",
              "      <td>111.0</td>\n",
              "      <td>5000.0</td>\n",
              "      <td>21</td>\n",
              "      <td>27</td>\n",
              "      <td>13495.0</td>\n",
              "      <td>11.190476</td>\n",
              "      <td>0</td>\n",
              "      <td>1</td>\n",
              "    </tr>\n",
              "    <tr>\n",
              "      <th>1</th>\n",
              "      <td>1</td>\n",
              "      <td>1</td>\n",
              "      <td>3</td>\n",
              "      <td>122</td>\n",
              "      <td>88.6</td>\n",
              "      <td>0.811148</td>\n",
              "      <td>0.890278</td>\n",
              "      <td>48.8</td>\n",
              "      <td>2548</td>\n",
              "      <td>130</td>\n",
              "      <td>...</td>\n",
              "      <td>2.68</td>\n",
              "      <td>9.0</td>\n",
              "      <td>111.0</td>\n",
              "      <td>5000.0</td>\n",
              "      <td>21</td>\n",
              "      <td>27</td>\n",
              "      <td>16500.0</td>\n",
              "      <td>11.190476</td>\n",
              "      <td>0</td>\n",
              "      <td>1</td>\n",
              "    </tr>\n",
              "    <tr>\n",
              "      <th>2</th>\n",
              "      <td>2</td>\n",
              "      <td>2</td>\n",
              "      <td>1</td>\n",
              "      <td>122</td>\n",
              "      <td>94.5</td>\n",
              "      <td>0.822681</td>\n",
              "      <td>0.909722</td>\n",
              "      <td>52.4</td>\n",
              "      <td>2823</td>\n",
              "      <td>152</td>\n",
              "      <td>...</td>\n",
              "      <td>3.47</td>\n",
              "      <td>9.0</td>\n",
              "      <td>154.0</td>\n",
              "      <td>5000.0</td>\n",
              "      <td>19</td>\n",
              "      <td>26</td>\n",
              "      <td>16500.0</td>\n",
              "      <td>12.368421</td>\n",
              "      <td>0</td>\n",
              "      <td>1</td>\n",
              "    </tr>\n",
              "    <tr>\n",
              "      <th>3</th>\n",
              "      <td>3</td>\n",
              "      <td>3</td>\n",
              "      <td>2</td>\n",
              "      <td>164</td>\n",
              "      <td>99.8</td>\n",
              "      <td>0.848630</td>\n",
              "      <td>0.919444</td>\n",
              "      <td>54.3</td>\n",
              "      <td>2337</td>\n",
              "      <td>109</td>\n",
              "      <td>...</td>\n",
              "      <td>3.40</td>\n",
              "      <td>10.0</td>\n",
              "      <td>102.0</td>\n",
              "      <td>5500.0</td>\n",
              "      <td>24</td>\n",
              "      <td>30</td>\n",
              "      <td>13950.0</td>\n",
              "      <td>9.791667</td>\n",
              "      <td>0</td>\n",
              "      <td>1</td>\n",
              "    </tr>\n",
              "    <tr>\n",
              "      <th>4</th>\n",
              "      <td>4</td>\n",
              "      <td>4</td>\n",
              "      <td>2</td>\n",
              "      <td>164</td>\n",
              "      <td>99.4</td>\n",
              "      <td>0.848630</td>\n",
              "      <td>0.922222</td>\n",
              "      <td>54.3</td>\n",
              "      <td>2824</td>\n",
              "      <td>136</td>\n",
              "      <td>...</td>\n",
              "      <td>3.40</td>\n",
              "      <td>8.0</td>\n",
              "      <td>115.0</td>\n",
              "      <td>5500.0</td>\n",
              "      <td>18</td>\n",
              "      <td>22</td>\n",
              "      <td>17450.0</td>\n",
              "      <td>13.055556</td>\n",
              "      <td>0</td>\n",
              "      <td>1</td>\n",
              "    </tr>\n",
              "  </tbody>\n",
              "</table>\n",
              "<p>5 rows × 21 columns</p>\n",
              "</div>\n",
              "      <button class=\"colab-df-convert\" onclick=\"convertToInteractive('df-be6b5fe4-484c-4ce9-ad3d-c77ef0a2fb76')\"\n",
              "              title=\"Convert this dataframe to an interactive table.\"\n",
              "              style=\"display:none;\">\n",
              "        \n",
              "  <svg xmlns=\"http://www.w3.org/2000/svg\" height=\"24px\"viewBox=\"0 0 24 24\"\n",
              "       width=\"24px\">\n",
              "    <path d=\"M0 0h24v24H0V0z\" fill=\"none\"/>\n",
              "    <path d=\"M18.56 5.44l.94 2.06.94-2.06 2.06-.94-2.06-.94-.94-2.06-.94 2.06-2.06.94zm-11 1L8.5 8.5l.94-2.06 2.06-.94-2.06-.94L8.5 2.5l-.94 2.06-2.06.94zm10 10l.94 2.06.94-2.06 2.06-.94-2.06-.94-.94-2.06-.94 2.06-2.06.94z\"/><path d=\"M17.41 7.96l-1.37-1.37c-.4-.4-.92-.59-1.43-.59-.52 0-1.04.2-1.43.59L10.3 9.45l-7.72 7.72c-.78.78-.78 2.05 0 2.83L4 21.41c.39.39.9.59 1.41.59.51 0 1.02-.2 1.41-.59l7.78-7.78 2.81-2.81c.8-.78.8-2.07 0-2.86zM5.41 20L4 18.59l7.72-7.72 1.47 1.35L5.41 20z\"/>\n",
              "  </svg>\n",
              "      </button>\n",
              "      \n",
              "  <style>\n",
              "    .colab-df-container {\n",
              "      display:flex;\n",
              "      flex-wrap:wrap;\n",
              "      gap: 12px;\n",
              "    }\n",
              "\n",
              "    .colab-df-convert {\n",
              "      background-color: #E8F0FE;\n",
              "      border: none;\n",
              "      border-radius: 50%;\n",
              "      cursor: pointer;\n",
              "      display: none;\n",
              "      fill: #1967D2;\n",
              "      height: 32px;\n",
              "      padding: 0 0 0 0;\n",
              "      width: 32px;\n",
              "    }\n",
              "\n",
              "    .colab-df-convert:hover {\n",
              "      background-color: #E2EBFA;\n",
              "      box-shadow: 0px 1px 2px rgba(60, 64, 67, 0.3), 0px 1px 3px 1px rgba(60, 64, 67, 0.15);\n",
              "      fill: #174EA6;\n",
              "    }\n",
              "\n",
              "    [theme=dark] .colab-df-convert {\n",
              "      background-color: #3B4455;\n",
              "      fill: #D2E3FC;\n",
              "    }\n",
              "\n",
              "    [theme=dark] .colab-df-convert:hover {\n",
              "      background-color: #434B5C;\n",
              "      box-shadow: 0px 1px 3px 1px rgba(0, 0, 0, 0.15);\n",
              "      filter: drop-shadow(0px 1px 2px rgba(0, 0, 0, 0.3));\n",
              "      fill: #FFFFFF;\n",
              "    }\n",
              "  </style>\n",
              "\n",
              "      <script>\n",
              "        const buttonEl =\n",
              "          document.querySelector('#df-be6b5fe4-484c-4ce9-ad3d-c77ef0a2fb76 button.colab-df-convert');\n",
              "        buttonEl.style.display =\n",
              "          google.colab.kernel.accessAllowed ? 'block' : 'none';\n",
              "\n",
              "        async function convertToInteractive(key) {\n",
              "          const element = document.querySelector('#df-be6b5fe4-484c-4ce9-ad3d-c77ef0a2fb76');\n",
              "          const dataTable =\n",
              "            await google.colab.kernel.invokeFunction('convertToInteractive',\n",
              "                                                     [key], {});\n",
              "          if (!dataTable) return;\n",
              "\n",
              "          const docLinkHtml = 'Like what you see? Visit the ' +\n",
              "            '<a target=\"_blank\" href=https://colab.research.google.com/notebooks/data_table.ipynb>data table notebook</a>'\n",
              "            + ' to learn more about interactive tables.';\n",
              "          element.innerHTML = '';\n",
              "          dataTable['output_type'] = 'display_data';\n",
              "          await google.colab.output.renderOutput(dataTable, element);\n",
              "          const docLink = document.createElement('div');\n",
              "          docLink.innerHTML = docLinkHtml;\n",
              "          element.appendChild(docLink);\n",
              "        }\n",
              "      </script>\n",
              "    </div>\n",
              "  </div>\n",
              "  "
            ]
          },
          "metadata": {},
          "execution_count": 2
        }
      ]
    },
    {
      "cell_type": "code",
      "source": [
        "#We define which variable is going to be the predictor.\n",
        "y_data = df['price']"
      ],
      "metadata": {
        "id": "DfSmb10eppZE"
      },
      "execution_count": 3,
      "outputs": []
    },
    {
      "cell_type": "code",
      "source": [
        "x_data=df.drop('price',axis=1)"
      ],
      "metadata": {
        "id": "TR_RGn6gqSi6"
      },
      "execution_count": 4,
      "outputs": []
    },
    {
      "cell_type": "code",
      "source": [
        "#Here we split all data dividing into training and test data, adjustin testing to 10%\n",
        "from sklearn.model_selection import train_test_split\n",
        "\n",
        "\n",
        "x_train, x_test, y_train, y_test = train_test_split(x_data, y_data, test_size=0.10, random_state=1)\n",
        "\n",
        "\n",
        "print(\"number of test samples :\", x_test.shape[0])\n",
        "print(\"number of training samples:\",x_train.shape[0])"
      ],
      "metadata": {
        "id": "8Io3hrPVqUKi",
        "outputId": "87df6fe2-31cb-499e-fc51-529361705300",
        "colab": {
          "base_uri": "https://localhost:8080/"
        }
      },
      "execution_count": 5,
      "outputs": [
        {
          "output_type": "stream",
          "name": "stdout",
          "text": [
            "number of test samples : 21\n",
            "number of training samples: 180\n"
          ]
        }
      ]
    },
    {
      "cell_type": "code",
      "source": [
        "#Here we are just adjusting the test part to 40% and random state as it is specified on the exercise.\n",
        "x_train1, x_test1, y_train1, y_test1 = train_test_split(x_data, y_data, test_size=0.4, random_state=0) \n",
        "print(\"number of test samples :\", x_test1.shape[0])\n",
        "print(\"number of training samples:\",x_train1.shape[0])"
      ],
      "metadata": {
        "id": "a0hiacokqWia",
        "outputId": "fbf35e9c-0b0f-4d0c-95f0-3d5208c63805",
        "colab": {
          "base_uri": "https://localhost:8080/"
        }
      },
      "execution_count": 6,
      "outputs": [
        {
          "output_type": "stream",
          "name": "stdout",
          "text": [
            "number of test samples : 81\n",
            "number of training samples: 120\n"
          ]
        }
      ]
    },
    {
      "cell_type": "code",
      "source": [
        "from sklearn.linear_model import LinearRegression\n",
        "\n",
        "lre=LinearRegression()"
      ],
      "metadata": {
        "id": "3QVys-jYqYYT"
      },
      "execution_count": 7,
      "outputs": []
    },
    {
      "cell_type": "code",
      "source": [
        "lre.fit(x_train[['horsepower']], y_train)"
      ],
      "metadata": {
        "id": "GLSvMyaDqbmi",
        "outputId": "e6b2d0ff-35b2-49c1-8d44-c3ebe14096fc",
        "colab": {
          "base_uri": "https://localhost:8080/"
        }
      },
      "execution_count": 8,
      "outputs": [
        {
          "output_type": "execute_result",
          "data": {
            "text/plain": [
              "LinearRegression()"
            ]
          },
          "metadata": {},
          "execution_count": 8
        }
      ]
    },
    {
      "cell_type": "code",
      "source": [
        "#The test part is smaller than the training part.\n",
        "lre.score(x_test[['horsepower']], y_test)"
      ],
      "metadata": {
        "id": "Ew6l7kwmqdYq",
        "outputId": "798712ac-4e70-447f-d29c-791580804600",
        "colab": {
          "base_uri": "https://localhost:8080/"
        }
      },
      "execution_count": 9,
      "outputs": [
        {
          "output_type": "execute_result",
          "data": {
            "text/plain": [
              "0.36358755750788263"
            ]
          },
          "metadata": {},
          "execution_count": 9
        }
      ]
    },
    {
      "cell_type": "code",
      "source": [
        "lre.score(x_train[['horsepower']], y_train)"
      ],
      "metadata": {
        "id": "9s9pWzApqg5i",
        "outputId": "bc4b8585-59a0-4e9c-c6ad-be20228a1981",
        "colab": {
          "base_uri": "https://localhost:8080/"
        }
      },
      "execution_count": 10,
      "outputs": [
        {
          "output_type": "execute_result",
          "data": {
            "text/plain": [
              "0.6619724197515104"
            ]
          },
          "metadata": {},
          "execution_count": 10
        }
      ]
    },
    {
      "cell_type": "code",
      "source": [
        "#Here we are making an evaluation from all dataset to convert training and test part, evaluating each iteration, dividing all data in four parts.\n",
        "from sklearn.model_selection import cross_val_score\n",
        "Rcross = cross_val_score(lre, x_data[['horsepower']], y_data, cv=4)\n",
        "Rcross"
      ],
      "metadata": {
        "id": "1U_-72WcIbjd",
        "outputId": "521efbf3-4601-4cc1-cf6d-f8e1bc950bd1",
        "colab": {
          "base_uri": "https://localhost:8080/"
        }
      },
      "execution_count": 21,
      "outputs": [
        {
          "output_type": "execute_result",
          "data": {
            "text/plain": [
              "array([0.7746232 , 0.51716687, 0.74785353, 0.04839605])"
            ]
          },
          "metadata": {},
          "execution_count": 21
        }
      ]
    },
    {
      "cell_type": "code",
      "source": [
        "print(\"The mean of the folds are\", Rcross.mean(), \"and the standard deviation is\" , Rcross.std())"
      ],
      "metadata": {
        "id": "daRTLq92IfeH",
        "outputId": "d4ac20d0-6903-4d7d-e3db-c7b75d65ebe8",
        "colab": {
          "base_uri": "https://localhost:8080/"
        }
      },
      "execution_count": 22,
      "outputs": [
        {
          "output_type": "stream",
          "name": "stdout",
          "text": [
            "The mean of the folds are 0.522009915042119 and the standard deviation is 0.291183944475603\n"
          ]
        }
      ]
    },
    {
      "cell_type": "code",
      "source": [
        "-1 * cross_val_score(lre,x_data[['horsepower']], y_data,cv=4,scoring='neg_mean_squared_error')"
      ],
      "metadata": {
        "id": "-bYhzsusIign",
        "outputId": "b9344543-ec1d-4c63-aa01-6666dcf32723",
        "colab": {
          "base_uri": "https://localhost:8080/"
        }
      },
      "execution_count": 23,
      "outputs": [
        {
          "output_type": "execute_result",
          "data": {
            "text/plain": [
              "array([20254142.84026702, 43745493.2650517 , 12539630.34014931,\n",
              "       17561927.72247591])"
            ]
          },
          "metadata": {},
          "execution_count": 23
        }
      ]
    },
    {
      "cell_type": "code",
      "source": [
        "Rc=cross_val_score(lre,x_data[['horsepower']], y_data,cv=2)\n",
        "Rc.mean()"
      ],
      "metadata": {
        "id": "ok_w3GR8ItkQ",
        "outputId": "b43206b8-8925-400f-b5f3-c44516db5800",
        "colab": {
          "base_uri": "https://localhost:8080/"
        }
      },
      "execution_count": 24,
      "outputs": [
        {
          "output_type": "execute_result",
          "data": {
            "text/plain": [
              "0.5166761697127429"
            ]
          },
          "metadata": {},
          "execution_count": 24
        }
      ]
    },
    {
      "cell_type": "code",
      "source": [
        "from sklearn.model_selection import cross_val_predict\n",
        "yhat = cross_val_predict(lre,x_data[['horsepower']], y_data,cv=4)\n",
        "yhat[0:5]"
      ],
      "metadata": {
        "id": "3yi8O20dIxT7",
        "outputId": "6faa96c1-0fcf-41ca-8c8c-2f3b2a3927ba",
        "colab": {
          "base_uri": "https://localhost:8080/"
        }
      },
      "execution_count": 31,
      "outputs": [
        {
          "output_type": "execute_result",
          "data": {
            "text/plain": [
              "array([14141.63807508, 14141.63807508, 20814.29423473, 12745.03562306,\n",
              "       14762.35027598])"
            ]
          },
          "metadata": {},
          "execution_count": 31
        }
      ]
    },
    {
      "cell_type": "code",
      "source": [
        "lr = LinearRegression()\n",
        "lr.fit(x_train[['horsepower', 'curb-weight', 'engine-size', 'highway-mpg']], y_train)\n",
        "\n",
        "yhat_train = lr.predict(x_train[['horsepower', 'curb-weight', 'engine-size', 'highway-mpg']])\n",
        "yhat_train[0:5]"
      ],
      "metadata": {
        "id": "nWJTWUXAMEuA",
        "outputId": "279cbf9a-34ec-427e-ce33-dda7a110c4ae",
        "colab": {
          "base_uri": "https://localhost:8080/"
        }
      },
      "execution_count": 32,
      "outputs": [
        {
          "output_type": "execute_result",
          "data": {
            "text/plain": [
              "array([ 7426.6731551 , 28323.75090803, 14213.38819709,  4052.34146983,\n",
              "       34500.19124244])"
            ]
          },
          "metadata": {},
          "execution_count": 32
        }
      ]
    },
    {
      "cell_type": "code",
      "source": [
        "yhat_test = lr.predict(x_test[['horsepower', 'curb-weight', 'engine-size', 'highway-mpg']])\n",
        "yhat_test[0:5]"
      ],
      "metadata": {
        "id": "7mFCsSjlMJCU",
        "outputId": "c5ef4b9e-84d1-4579-a96e-c92c7d8d8cbd",
        "colab": {
          "base_uri": "https://localhost:8080/"
        }
      },
      "execution_count": 33,
      "outputs": [
        {
          "output_type": "execute_result",
          "data": {
            "text/plain": [
              "array([11349.35089149,  5884.11059106, 11208.6928275 ,  6641.07786278,\n",
              "       15565.79920282])"
            ]
          },
          "metadata": {},
          "execution_count": 33
        }
      ]
    },
    {
      "cell_type": "code",
      "source": [
        "from sklearn.preprocessing import PolynomialFeatures\n",
        "\n",
        "x_train, x_test, y_train, y_test = train_test_split(x_data, y_data, test_size=0.45, random_state=0)\n",
        "pr = PolynomialFeatures(degree=5)\n",
        "x_train_pr = pr.fit_transform(x_train[['horsepower']])\n",
        "x_test_pr = pr.fit_transform(x_test[['horsepower']])\n",
        "pr"
      ],
      "metadata": {
        "id": "WanKJmi_NuY4",
        "outputId": "df0dcbf9-326a-4597-ca6c-eecfb0603ea3",
        "colab": {
          "base_uri": "https://localhost:8080/"
        }
      },
      "execution_count": 36,
      "outputs": [
        {
          "output_type": "execute_result",
          "data": {
            "text/plain": [
              "PolynomialFeatures(degree=5)"
            ]
          },
          "metadata": {},
          "execution_count": 36
        }
      ]
    },
    {
      "cell_type": "code",
      "source": [
        "poly = LinearRegression()\n",
        "poly.fit(x_train_pr, y_train)"
      ],
      "metadata": {
        "id": "HQoe2Xk3NzZ4",
        "outputId": "6a4ac704-76cc-4fc5-df54-72264e44ff2e",
        "colab": {
          "base_uri": "https://localhost:8080/"
        }
      },
      "execution_count": 37,
      "outputs": [
        {
          "output_type": "execute_result",
          "data": {
            "text/plain": [
              "LinearRegression()"
            ]
          },
          "metadata": {},
          "execution_count": 37
        }
      ]
    },
    {
      "cell_type": "code",
      "source": [
        "yhat = poly.predict(x_test_pr)\n",
        "yhat[0:5]"
      ],
      "metadata": {
        "id": "xF2C0o2sN2K6",
        "outputId": "9b3cce72-cb50-452f-fc03-1fbf76ea4ed2",
        "colab": {
          "base_uri": "https://localhost:8080/"
        }
      },
      "execution_count": 38,
      "outputs": [
        {
          "output_type": "execute_result",
          "data": {
            "text/plain": [
              "array([ 6728.65561887,  7307.98782321, 12213.78770965, 18893.24804015,\n",
              "       19995.95195136])"
            ]
          },
          "metadata": {},
          "execution_count": 38
        }
      ]
    },
    {
      "cell_type": "code",
      "source": [
        "print(\"Predicted values:\", yhat[0:4])\n",
        "print(\"True values:\", y_test[0:4].values)"
      ],
      "metadata": {
        "id": "9XZ6jAUlN4Lr",
        "outputId": "07f8aeb5-0a01-4541-b001-6354d5743f72",
        "colab": {
          "base_uri": "https://localhost:8080/"
        }
      },
      "execution_count": 39,
      "outputs": [
        {
          "output_type": "stream",
          "name": "stdout",
          "text": [
            "Predicted values: [ 6728.65561887  7307.98782321 12213.78770965 18893.24804015]\n",
            "True values: [ 6295. 10698. 13860. 13499.]\n"
          ]
        }
      ]
    },
    {
      "cell_type": "code",
      "source": [
        "#In this exercise we evaluated a model, testing and retroalimentating our dataset, and also learned that some predicted values can be kind of far from the real point, but this means we have some noise between our predictions."
      ],
      "metadata": {
        "id": "mUjKTHMNSZYb"
      },
      "execution_count": null,
      "outputs": []
    },
    {
      "cell_type": "markdown",
      "source": [
        "![Capture.PNG](data:image/png;base64,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)"
      ],
      "metadata": {
        "id": "hGiIJsS_i6A6"
      }
    }
  ]
}