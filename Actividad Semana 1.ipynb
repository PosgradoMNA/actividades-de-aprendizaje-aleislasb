{
  "nbformat": 4,
  "nbformat_minor": 0,
  "metadata": {
    "colab": {
      "name": "assignment01.ipynb",
      "provenance": [],
      "toc_visible": true,
      "include_colab_link": true
    },
    "kernelspec": {
      "name": "python3",
      "display_name": "Python 3"
    },
    "language_info": {
      "name": "python"
    }
  },
  "cells": [
    {
      "cell_type": "markdown",
      "metadata": {
        "id": "view-in-github",
        "colab_type": "text"
      },
      "source": [
        "<a href=\"https://colab.research.google.com/github/PosgradoMNA/actividades-de-aprendizaje-aleislasb/blob/main/Actividad%20Semana%201.ipynb\" target=\"_parent\"><img src=\"https://colab.research.google.com/assets/colab-badge.svg\" alt=\"Open In Colab\"/></a>"
      ]
    },
    {
      "cell_type": "markdown",
      "source": [
        "# 1.1-Your First Program\n",
        "\n"
      ],
      "metadata": {
        "id": "U2lAo5LN3SJ7"
      }
    },
    {
      "cell_type": "code",
      "source": [
        "#What is in the parentheses will be executed, this is called an argument. Every statement goes into a cell.\n",
        "print(\"Hello Python 101\")\n"
      ],
      "metadata": {
        "id": "mxM_WppZPMFx",
        "outputId": "9a5113f8-1f0d-4c65-9cd6-846ef21fa410",
        "colab": {
          "base_uri": "https://localhost:8080/"
        }
      },
      "execution_count": null,
      "outputs": [
        {
          "output_type": "stream",
          "name": "stdout",
          "text": [
            "Hello Python 101\n",
            "Hello\n",
            "World!\n"
          ]
        }
      ]
    },
    {
      "cell_type": "code",
      "source": [
        "print(\"Hello\\nWorld!\") #The expression /n makes a space.\n"
      ],
      "metadata": {
        "colab": {
          "base_uri": "https://localhost:8080/"
        },
        "id": "MJQRbTtKAubS",
        "outputId": "a8c009c4-ae0b-4d38-9f9c-bac6fc1b25da"
      },
      "execution_count": null,
      "outputs": [
        {
          "output_type": "stream",
          "name": "stdout",
          "text": [
            "Hello\n",
            "World!\n"
          ]
        }
      ]
    },
    {
      "cell_type": "code",
      "source": [
        "# print('Hello World!') does not execute nothing."
      ],
      "metadata": {
        "id": "dpE9Uei2A0DK"
      },
      "execution_count": null,
      "outputs": []
    },
    {
      "cell_type": "markdown",
      "source": [
        "# 1.2-Types"
      ],
      "metadata": {
        "id": "oW-sG3CqACeC"
      }
    },
    {
      "cell_type": "code",
      "source": [
        "type(\"Hello World\")\n",
        "#The function type, finds out which type of information do we have in parentheses, in this case,text.\n"
      ],
      "metadata": {
        "colab": {
          "base_uri": "https://localhost:8080/"
        },
        "id": "aSxkEyKHAMbx",
        "outputId": "07b9aa25-a4f7-4290-a8a4-bf135119d4f6"
      },
      "execution_count": null,
      "outputs": [
        {
          "output_type": "execute_result",
          "data": {
            "text/plain": [
              "str"
            ]
          },
          "metadata": {},
          "execution_count": 13
        }
      ]
    },
    {
      "cell_type": "code",
      "source": [
        "type(\"1.1\")\n",
        "#The function evaluates that eventhough we have a number the symbols \"\" makes that information to text.\n",
        "\n"
      ],
      "metadata": {
        "colab": {
          "base_uri": "https://localhost:8080/"
        },
        "id": "k60s5b8GA-1F",
        "outputId": "6da78b4f-0679-4cf0-e6d5-5a2821e05900"
      },
      "execution_count": null,
      "outputs": [
        {
          "output_type": "execute_result",
          "data": {
            "text/plain": [
              "str"
            ]
          },
          "metadata": {},
          "execution_count": 14
        }
      ]
    },
    {
      "cell_type": "code",
      "source": [
        "bool(int(1))\n",
        "#Conversion from integer to a boolean value.\n"
      ],
      "metadata": {
        "colab": {
          "base_uri": "https://localhost:8080/"
        },
        "id": "fK6JIbhqBAEq",
        "outputId": "7b242eb7-8f2a-4312-bb29-557cfa298a29"
      },
      "execution_count": null,
      "outputs": [
        {
          "output_type": "execute_result",
          "data": {
            "text/plain": [
              "True"
            ]
          },
          "metadata": {},
          "execution_count": 17
        }
      ]
    },
    {
      "cell_type": "code",
      "source": [
        "type(bool(int(1)))\n",
        "#In this statement we ask which type of information do we have after converting it to a boolean value."
      ],
      "metadata": {
        "colab": {
          "base_uri": "https://localhost:8080/"
        },
        "id": "3zVLyRpfCIzY",
        "outputId": "61287cdf-4a85-4910-bf57-e8726667d645"
      },
      "execution_count": null,
      "outputs": [
        {
          "output_type": "execute_result",
          "data": {
            "text/plain": [
              "bool"
            ]
          },
          "metadata": {},
          "execution_count": 18
        }
      ]
    },
    {
      "cell_type": "markdown",
      "source": [
        "# 1.3-Expressions and Varibles"
      ],
      "metadata": {
        "id": "C4MjbB4B3kEg"
      }
    },
    {
      "cell_type": "code",
      "source": [
        "#A expression describe the type of operation we like to perform. \n",
        "43+60+16+41 \n",
        "#On this operation the number is called operands and the math symbols are called operators."
      ],
      "metadata": {
        "id": "3imXta0Q3tAF",
        "outputId": "014f4356-b59f-4359-b010-3ffabc8c6878",
        "colab": {
          "base_uri": "https://localhost:8080/"
        }
      },
      "execution_count": 1,
      "outputs": [
        {
          "output_type": "execute_result",
          "data": {
            "text/plain": [
              "160"
            ]
          },
          "metadata": {},
          "execution_count": 1
        }
      ]
    },
    {
      "cell_type": "code",
      "source": [
        "#// is an operator that results into a integer.\n",
        "25//4"
      ],
      "metadata": {
        "id": "OX1V4pkM4yCj",
        "outputId": "b07e0779-d96f-43cf-8e38-ab89e66ccee7",
        "colab": {
          "base_uri": "https://localhost:8080/"
        }
      },
      "execution_count": 3,
      "outputs": [
        {
          "output_type": "execute_result",
          "data": {
            "text/plain": [
              "6"
            ]
          },
          "metadata": {},
          "execution_count": 3
        }
      ]
    },
    {
      "cell_type": "code",
      "source": [
        "#When updating a variable you can give a value with the sign equal.\n",
        "Prueba_Phyton=15\n",
        "#The symbol _ represents the start of a new world in a variable."
      ],
      "metadata": {
        "id": "dVfnD8Hc46P1"
      },
      "execution_count": 7,
      "outputs": []
    },
    {
      "cell_type": "code",
      "source": [
        "#When updating a variable value, it is just necessary to give the new value, the other value is not important anymore.\n",
        "Prueba_Phyton:10"
      ],
      "metadata": {
        "id": "iT0ZwRtk6B-7"
      },
      "execution_count": null,
      "outputs": []
    },
    {
      "cell_type": "markdown",
      "source": [
        "#1.4-String Operations"
      ],
      "metadata": {
        "id": "En8hT5Pg7qn7"
      }
    },
    {
      "cell_type": "code",
      "source": [],
      "metadata": {
        "id": "BGpOx04Y7w7L"
      },
      "execution_count": null,
      "outputs": []
    }
  ]
}