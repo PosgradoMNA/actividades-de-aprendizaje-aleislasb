{
  "nbformat": 4,
  "nbformat_minor": 0,
  "metadata": {
    "colab": {
      "name": "assignment01.ipynb",
      "provenance": [],
      "toc_visible": true,
      "include_colab_link": true
    },
    "kernelspec": {
      "name": "python3",
      "display_name": "Python 3"
    },
    "language_info": {
      "name": "python"
    }
  },
  "cells": [
    {
      "cell_type": "markdown",
      "metadata": {
        "id": "view-in-github",
        "colab_type": "text"
      },
      "source": [
        "<a href=\"https://colab.research.google.com/github/PosgradoMNA/actividades-de-aprendizaje-aleislasb/blob/main/Actividad%20Semana%201.ipynb\" target=\"_parent\"><img src=\"https://colab.research.google.com/assets/colab-badge.svg\" alt=\"Open In Colab\"/></a>"
      ]
    },
    {
      "cell_type": "markdown",
      "source": [
        "# Your First Program\n",
        "\n"
      ],
      "metadata": {
        "id": "U2lAo5LN3SJ7"
      }
    },
    {
      "cell_type": "code",
      "source": [
        "#What is in the parentheses will be executed, this is called an argument. Every statement goes into a cell.\n",
        "print(\"Hello Python 101\")\n"
      ],
      "metadata": {
        "id": "mxM_WppZPMFx",
        "outputId": "9a5113f8-1f0d-4c65-9cd6-846ef21fa410",
        "colab": {
          "base_uri": "https://localhost:8080/"
        }
      },
      "execution_count": 1,
      "outputs": [
        {
          "output_type": "stream",
          "name": "stdout",
          "text": [
            "Hello Python 101\n",
            "Hello\n",
            "World!\n"
          ]
        }
      ]
    },
    {
      "cell_type": "code",
      "source": [
        "print(\"Hello\\nWorld!\") #The expression /n makes a space.\n"
      ],
      "metadata": {
        "id": "MJQRbTtKAubS",
        "outputId": "a8c009c4-ae0b-4d38-9f9c-bac6fc1b25da",
        "colab": {
          "base_uri": "https://localhost:8080/"
        }
      },
      "execution_count": 7,
      "outputs": [
        {
          "output_type": "stream",
          "name": "stdout",
          "text": [
            "Hello\n",
            "World!\n"
          ]
        }
      ]
    },
    {
      "cell_type": "code",
      "source": [
        "# print('Hello World!') does not execute nothing."
      ],
      "metadata": {
        "id": "dpE9Uei2A0DK"
      },
      "execution_count": 8,
      "outputs": []
    },
    {
      "cell_type": "markdown",
      "source": [
        "# Types"
      ],
      "metadata": {
        "id": "oW-sG3CqACeC"
      }
    },
    {
      "cell_type": "code",
      "source": [
        "type(\"Hello World\")\n",
        "#The function type, finds out which type of information do we have in parentheses, in this case,text.\n"
      ],
      "metadata": {
        "id": "aSxkEyKHAMbx",
        "outputId": "07b9aa25-a4f7-4290-a8a4-bf135119d4f6",
        "colab": {
          "base_uri": "https://localhost:8080/"
        }
      },
      "execution_count": 13,
      "outputs": [
        {
          "output_type": "execute_result",
          "data": {
            "text/plain": [
              "str"
            ]
          },
          "metadata": {},
          "execution_count": 13
        }
      ]
    },
    {
      "cell_type": "code",
      "source": [
        "type(\"1.1\")\n",
        "#The function evaluates that eventhough we have a number the symbols \"\" makes that information to text.\n",
        "\n"
      ],
      "metadata": {
        "id": "k60s5b8GA-1F",
        "outputId": "6da78b4f-0679-4cf0-e6d5-5a2821e05900",
        "colab": {
          "base_uri": "https://localhost:8080/"
        }
      },
      "execution_count": 14,
      "outputs": [
        {
          "output_type": "execute_result",
          "data": {
            "text/plain": [
              "str"
            ]
          },
          "metadata": {},
          "execution_count": 14
        }
      ]
    },
    {
      "cell_type": "code",
      "source": [
        "bool(int(1))\n",
        "#Conversion from integer to a boolean value.\n"
      ],
      "metadata": {
        "id": "fK6JIbhqBAEq",
        "outputId": "7b242eb7-8f2a-4312-bb29-557cfa298a29",
        "colab": {
          "base_uri": "https://localhost:8080/"
        }
      },
      "execution_count": 17,
      "outputs": [
        {
          "output_type": "execute_result",
          "data": {
            "text/plain": [
              "True"
            ]
          },
          "metadata": {},
          "execution_count": 17
        }
      ]
    },
    {
      "cell_type": "code",
      "source": [
        "type(bool(int(1)))\n",
        "#In this statement we ask which type of information do we have after converting it to a boolean value."
      ],
      "metadata": {
        "id": "3zVLyRpfCIzY",
        "outputId": "31ac6370-33ea-4d60-a43c-e07bd4d34136",
        "colab": {
          "base_uri": "https://localhost:8080/"
        }
      },
      "execution_count": 15,
      "outputs": [
        {
          "output_type": "execute_result",
          "data": {
            "text/plain": [
              "bool"
            ]
          },
          "metadata": {},
          "execution_count": 15
        }
      ]
    }
  ]
}