{
  "nbformat": 4,
  "nbformat_minor": 0,
  "metadata": {
    "colab": {
      "name": "assignment01.ipynb",
      "provenance": [],
      "include_colab_link": true
    },
    "kernelspec": {
      "name": "python3",
      "display_name": "Python 3"
    },
    "language_info": {
      "name": "python"
    }
  },
  "cells": [
    {
      "cell_type": "markdown",
      "metadata": {
        "id": "view-in-github",
        "colab_type": "text"
      },
      "source": [
        "<a href=\"https://colab.research.google.com/github/PosgradoMNA/actividades-de-aprendizaje-aleislasb/blob/main/Semana%203%20IBM.ipynb\" target=\"_parent\"><img src=\"https://colab.research.google.com/assets/colab-badge.svg\" alt=\"Open In Colab\"/></a>"
      ]
    },
    {
      "cell_type": "markdown",
      "source": [
        "#5.1-Numpy 1D Arrays\n",
        "\n"
      ],
      "metadata": {
        "id": "wMDg1r_utrvO"
      }
    },
    {
      "cell_type": "code",
      "source": [
        "#Numpy is a library for scientific computing and it is the base of pandas, a numpy array is similar to a list.\n",
        "import pandas as np\n",
        "a=np.array([1,-7,5,-9])\n"
      ],
      "metadata": {
        "id": "lpaU1F1utzLe"
      },
      "execution_count": 37,
      "outputs": []
    },
    {
      "cell_type": "code",
      "source": [
        "#We can also consult which data do we have on which position like in the first videos.\n",
        "a[0]"
      ],
      "metadata": {
        "colab": {
          "base_uri": "https://localhost:8080/"
        },
        "id": "VjhxwyvY07JM",
        "outputId": "823b3606-aa2e-48e5-bb78-f6715fbe835d"
      },
      "execution_count": 9,
      "outputs": [
        {
          "output_type": "execute_result",
          "data": {
            "text/plain": [
              "1"
            ]
          },
          "metadata": {},
          "execution_count": 9
        }
      ]
    },
    {
      "cell_type": "code",
      "source": [
        "#We can also the consult the type of information we are typing. \n",
        "type(a)"
      ],
      "metadata": {
        "colab": {
          "base_uri": "https://localhost:8080/"
        },
        "id": "gQ923mnK1D0z",
        "outputId": "bc2c4884-e39b-4482-d881-20c145dc4bf9"
      },
      "execution_count": 11,
      "outputs": [
        {
          "output_type": "execute_result",
          "data": {
            "text/plain": [
              "pandas.core.arrays.integer.IntegerArray"
            ]
          },
          "metadata": {},
          "execution_count": 11
        }
      ]
    },
    {
      "cell_type": "code",
      "source": [
        "#In order to consult the size of the numpy we can use the function .size.\n",
        "a.size"
      ],
      "metadata": {
        "colab": {
          "base_uri": "https://localhost:8080/"
        },
        "id": "G5rubBLi1OXZ",
        "outputId": "69827bfc-e779-45e8-b54e-68003de57c60"
      },
      "execution_count": 12,
      "outputs": [
        {
          "output_type": "execute_result",
          "data": {
            "text/plain": [
              "2"
            ]
          },
          "metadata": {},
          "execution_count": 12
        }
      ]
    },
    {
      "cell_type": "code",
      "source": [
        "#As in some features we can add more elements to our list or tuple. Or slice the same tuple, for example the first two elements of the list. \n",
        "b=a[0:2]\n",
        "b"
      ],
      "metadata": {
        "colab": {
          "base_uri": "https://localhost:8080/"
        },
        "id": "DIWe-KOD1abM",
        "outputId": "92abacde-775d-4885-cbc2-f86111ac345b"
      },
      "execution_count": 39,
      "outputs": [
        {
          "output_type": "execute_result",
          "data": {
            "text/plain": [
              "<IntegerArray>\n",
              "[1, -7]\n",
              "Length: 2, dtype: Int64"
            ]
          },
          "metadata": {},
          "execution_count": 39
        }
      ]
    },
    {
      "cell_type": "code",
      "source": [
        "#We can also perform basic operations, in this case addition or multiply vectors. \n",
        "#The addition is made: Nominators with nominators and denominators with denominators.\n",
        "#If we perform the numpy library is faster than other methodology.\n",
        "import numpy as np\n",
        "\n",
        "u=np.array([1,1])\n",
        "v=np.array([0,1])\n",
        "\n",
        "z=u+v\n",
        "z"
      ],
      "metadata": {
        "colab": {
          "base_uri": "https://localhost:8080/"
        },
        "id": "Dka9njyh5XwB",
        "outputId": "096b6031-58e2-4433-a20a-71a7abc82c06"
      },
      "execution_count": 44,
      "outputs": [
        {
          "output_type": "execute_result",
          "data": {
            "text/plain": [
              "array([1, 2])"
            ]
          },
          "metadata": {},
          "execution_count": 44
        }
      ]
    },
    {
      "cell_type": "code",
      "source": [
        "#There are some basic functions that also numpy can perform, such as mean or max.\n",
        "import numpy as np \n",
        "a=np.array([1,-1,1,-1])\n",
        "mean_a=a.mean()\n",
        "mean_a"
      ],
      "metadata": {
        "colab": {
          "base_uri": "https://localhost:8080/"
        },
        "id": "CDmuVnmu6Xeb",
        "outputId": "164e17d8-f217-43f8-d628-138a386ec8a8"
      },
      "execution_count": 47,
      "outputs": [
        {
          "output_type": "execute_result",
          "data": {
            "text/plain": [
              "1"
            ]
          },
          "metadata": {},
          "execution_count": 47
        }
      ]
    },
    {
      "cell_type": "code",
      "source": [
        "max_a=a.max()\n",
        "max_a"
      ],
      "metadata": {
        "colab": {
          "base_uri": "https://localhost:8080/"
        },
        "id": "b-yvdwD-63IE",
        "outputId": "682ddb47-3464-4383-c9e9-26a7f06d8fbe"
      },
      "execution_count": 48,
      "outputs": [
        {
          "output_type": "execute_result",
          "data": {
            "text/plain": [
              "1"
            ]
          },
          "metadata": {},
          "execution_count": 48
        }
      ]
    },
    {
      "cell_type": "code",
      "source": [
        "#With this formula we are adding the values corresponding to the positions that every list have on the different arrays.\n",
        "import numpy as np\n",
        "arr1 = np.array([10, 11, 12, 13, 14, 15])\n",
        "arr2 = np.array([20, 21, 22, 23, 24, 25])\n",
        "arr3=np.add(arr1,arr2)\n",
        "arr3"
      ],
      "metadata": {
        "colab": {
          "base_uri": "https://localhost:8080/"
        },
        "id": "SlAsCUd88D8v",
        "outputId": "c26de648-7ac8-4ee2-8bc8-b4f223a5ea48"
      },
      "execution_count": 54,
      "outputs": [
        {
          "output_type": "execute_result",
          "data": {
            "text/plain": [
              "array([30, 32, 34, 36, 38, 40])"
            ]
          },
          "metadata": {},
          "execution_count": 54
        }
      ]
    },
    {
      "cell_type": "code",
      "source": [
        "#With this formula we are doing a substraction from the first array to the second according to their position.\n",
        "import numpy as np\n",
        "arr1 = np.array([10, 20, 30, 40, 50, 60])\n",
        "arr2 = np.array([20, 21, 22, 23, 24, 25])\n",
        "arr3=np.subtract(arr1,arr2)\n",
        "arr3"
      ],
      "metadata": {
        "colab": {
          "base_uri": "https://localhost:8080/"
        },
        "id": "mlMMqTOY8iFr",
        "outputId": "30e55d92-97f2-4548-96e1-3794ecf92257"
      },
      "execution_count": 57,
      "outputs": [
        {
          "output_type": "execute_result",
          "data": {
            "text/plain": [
              "array([-10,  -1,   8,  17,  26,  35])"
            ]
          },
          "metadata": {},
          "execution_count": 57
        }
      ]
    },
    {
      "cell_type": "code",
      "source": [
        "#Here as the last iterations, we are multiplying each value according to their position.\n",
        "import numpy as np\n",
        "arr1 = np.array([10, 20, 30, 40, 50, 60])\n",
        "arr2 = np.array([2, 1, 2, 3, 4, 5])\n",
        "arr3=np.multiply(arr1,arr2)\n",
        "arr3"
      ],
      "metadata": {
        "colab": {
          "base_uri": "https://localhost:8080/"
        },
        "id": "ESfuPWaF865w",
        "outputId": "22844caf-48c7-4a6a-e725-f55986fbbcce"
      },
      "execution_count": 58,
      "outputs": [
        {
          "output_type": "execute_result",
          "data": {
            "text/plain": [
              "array([ 20,  20,  60, 120, 200, 300])"
            ]
          },
          "metadata": {},
          "execution_count": 58
        }
      ]
    },
    {
      "cell_type": "code",
      "source": [
        "#We can multiply a vector with an integer, the integer multiplies every value on the tuple.\n",
        "z = np.array([2, 4])\n",
        "-2*z"
      ],
      "metadata": {
        "colab": {
          "base_uri": "https://localhost:8080/"
        },
        "id": "iu-LakEX9baM",
        "outputId": "8c27a254-a3a4-454e-fda4-79b2fb46b59c"
      },
      "execution_count": 59,
      "outputs": [
        {
          "output_type": "execute_result",
          "data": {
            "text/plain": [
              "array([-4, -8])"
            ]
          },
          "metadata": {},
          "execution_count": 59
        }
      ]
    },
    {
      "cell_type": "markdown",
      "source": [
        "#5.2-Numpy 2D Arrays"
      ],
      "metadata": {
        "id": "JsXX32l8-0Pl"
      }
    },
    {
      "cell_type": "code",
      "source": [
        "#Numpy can also create 2D arrays, like matrixes on math. On which every subgroup is a new row on the array. \n",
        "a=[[11,12,13],[21,22,23],[31,32,33]]\n",
        "A=np.array(a)\n",
        "A"
      ],
      "metadata": {
        "colab": {
          "base_uri": "https://localhost:8080/"
        },
        "id": "uGQh3713-4Lm",
        "outputId": "a77f14d0-61b4-4262-9e82-f63e719d150b"
      },
      "execution_count": 68,
      "outputs": [
        {
          "output_type": "execute_result",
          "data": {
            "text/plain": [
              "array([[11, 12, 13],\n",
              "       [21, 22, 23],\n",
              "       [31, 32, 33]])"
            ]
          },
          "metadata": {},
          "execution_count": 68
        }
      ]
    },
    {
      "cell_type": "code",
      "source": [
        "#In this case we can ask for the number of lists, in this case the first one is the one that shows first dimension and the second one the shape of the same list.\n",
        "A.ndim"
      ],
      "metadata": {
        "colab": {
          "base_uri": "https://localhost:8080/"
        },
        "id": "DLiDKCqjFi_F",
        "outputId": "e994c3f4-d1e7-47cc-fafd-58b2fb2c3e35"
      },
      "execution_count": 70,
      "outputs": [
        {
          "output_type": "execute_result",
          "data": {
            "text/plain": [
              "2"
            ]
          },
          "metadata": {},
          "execution_count": 70
        }
      ]
    },
    {
      "cell_type": "code",
      "source": [
        "#The formula .shape represents the number of the nested list that we have in all our variable, this can be on a horizontal list or in a rectangular form. \n",
        "A.shape"
      ],
      "metadata": {
        "id": "LPvrsClQHPum",
        "outputId": "df81597e-0668-4605-9b89-41a431157da8",
        "colab": {
          "base_uri": "https://localhost:8080/"
        }
      },
      "execution_count": 71,
      "outputs": [
        {
          "output_type": "execute_result",
          "data": {
            "text/plain": [
              "(3, 3)"
            ]
          },
          "metadata": {},
          "execution_count": 71
        }
      ]
    },
    {
      "cell_type": "code",
      "source": [
        "#The method "
      ],
      "metadata": {
        "id": "C60EugsuH833"
      },
      "execution_count": null,
      "outputs": []
    }
  ]
}