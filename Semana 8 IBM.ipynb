{
  "nbformat": 4,
  "nbformat_minor": 0,
  "metadata": {
    "colab": {
      "name": "assignment01.ipynb",
      "provenance": [],
      "include_colab_link": true
    },
    "kernelspec": {
      "name": "python3",
      "display_name": "Python 3"
    },
    "language_info": {
      "name": "python"
    }
  },
  "cells": [
    {
      "cell_type": "markdown",
      "metadata": {
        "id": "view-in-github",
        "colab_type": "text"
      },
      "source": [
        "<a href=\"https://colab.research.google.com/github/PosgradoMNA/actividades-de-aprendizaje-aleislasb/blob/main/Semana%208%20IBM.ipynb\" target=\"_parent\"><img src=\"https://colab.research.google.com/assets/colab-badge.svg\" alt=\"Open In Colab\"/></a>"
      ]
    },
    {
      "cell_type": "markdown",
      "source": [
        "#Semana 8: Data Analysis in Python (IBM)"
      ],
      "metadata": {
        "id": "es9_L1ollpax"
      }
    },
    {
      "cell_type": "markdown",
      "source": [
        "5.1 Model Evaluation and Refinement"
      ],
      "metadata": {
        "id": "V7qc5WFnmETx"
      }
    },
    {
      "cell_type": "code",
      "source": [
        "#The objective is to have a certain model that works in the real world and performs in a really optimal way. "
      ],
      "metadata": {
        "id": "Weot_4tlmJ81"
      },
      "execution_count": null,
      "outputs": []
    },
    {
      "cell_type": "markdown",
      "source": [
        "5.2 Model Evaluation"
      ],
      "metadata": {
        "id": "zKh3Vjffm9lz"
      }
    },
    {
      "cell_type": "code",
      "source": [],
      "metadata": {
        "id": "rtTEL7sVnBMU"
      },
      "execution_count": null,
      "outputs": []
    },
    {
      "cell_type": "markdown",
      "source": [
        "5.3 Overfitting, Underfitting and Model Selection"
      ],
      "metadata": {
        "id": "pBp3TKnDuGpi"
      }
    },
    {
      "cell_type": "markdown",
      "source": [
        "5.4 Ridge Regression"
      ],
      "metadata": {
        "id": "t78Ubmc1uMqm"
      }
    },
    {
      "cell_type": "markdown",
      "source": [
        "5.5 Grid Search"
      ],
      "metadata": {
        "id": "AeLcq4TiuPZf"
      }
    },
    {
      "cell_type": "markdown",
      "source": [
        "Lab"
      ],
      "metadata": {
        "id": "ol1R9yTYuS77"
      }
    }
  ]
}