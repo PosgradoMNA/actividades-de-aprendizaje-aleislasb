{
  "nbformat": 4,
  "nbformat_minor": 0,
  "metadata": {
    "colab": {
      "name": "assignment01.ipynb",
      "provenance": [],
      "include_colab_link": true
    },
    "kernelspec": {
      "name": "python3",
      "display_name": "Python 3"
    },
    "language_info": {
      "name": "python"
    }
  },
  "cells": [
    {
      "cell_type": "markdown",
      "metadata": {
        "id": "view-in-github",
        "colab_type": "text"
      },
      "source": [
        "<a href=\"https://colab.research.google.com/github/PosgradoMNA/actividades-de-aprendizaje-aleislasb/blob/main/Semana%202-Actividad%201.ipynb\" target=\"_parent\"><img src=\"https://colab.research.google.com/assets/colab-badge.svg\" alt=\"Open In Colab\"/></a>"
      ]
    },
    {
      "cell_type": "markdown",
      "source": [
        "#4.1 Reading Files with Open"
      ],
      "metadata": {
        "id": "O_EWsA9O8E6r"
      }
    },
    {
      "cell_type": "code",
      "source": [
        "#The open function gets a file object. We need to write two parameters, the file and the mode, the file path divides into two sections: the file directory and at the end the file name. \n",
        "#Some values for mode are reading, appending and writing.\n",
        "File1=open(\"/resources/data/Example2.txt\",\"w\")\n",
        "print(File1.name)\n",
        "\n",
        "#To view name or mode to reading function use. \n",
        "File1.name \n",
        "File1.mode \n",
        "#All open statements should have at the end a close function\n",
        "File1.close()"
      ],
      "metadata": {
        "id": "Kmd0J9BU8Wnq",
        "outputId": "d2889b79-7c1f-4057-c934-b23ef1e0f113",
        "colab": {
          "base_uri": "https://localhost:8080/",
          "height": 217
        }
      },
      "execution_count": null,
      "outputs": [
        {
          "output_type": "error",
          "ename": "FileNotFoundError",
          "evalue": "ignored",
          "traceback": [
            "\u001b[0;31m---------------------------------------------------------------------------\u001b[0m",
            "\u001b[0;31mFileNotFoundError\u001b[0m                         Traceback (most recent call last)",
            "\u001b[0;32m<ipython-input-3-839556b4f96e>\u001b[0m in \u001b[0;36m<module>\u001b[0;34m\u001b[0m\n\u001b[1;32m      1\u001b[0m \u001b[0;31m#The open function gets a file object. We need to write two parameters, the file and the mode, the file path divides into two sections: the file directory and at the end the file name.\u001b[0m\u001b[0;34m\u001b[0m\u001b[0;34m\u001b[0m\u001b[0;34m\u001b[0m\u001b[0m\n\u001b[1;32m      2\u001b[0m \u001b[0;31m#Some values for mode are reading, appending and writing.\u001b[0m\u001b[0;34m\u001b[0m\u001b[0;34m\u001b[0m\u001b[0;34m\u001b[0m\u001b[0m\n\u001b[0;32m----> 3\u001b[0;31m \u001b[0mFile1\u001b[0m\u001b[0;34m=\u001b[0m\u001b[0mopen\u001b[0m\u001b[0;34m(\u001b[0m\u001b[0;34m\"/resources/data/Example2.txt\"\u001b[0m\u001b[0;34m,\u001b[0m\u001b[0;34m\"w\"\u001b[0m\u001b[0;34m)\u001b[0m\u001b[0;34m\u001b[0m\u001b[0;34m\u001b[0m\u001b[0m\n\u001b[0m\u001b[1;32m      4\u001b[0m \u001b[0mprint\u001b[0m\u001b[0;34m(\u001b[0m\u001b[0mFile1\u001b[0m\u001b[0;34m.\u001b[0m\u001b[0mname\u001b[0m\u001b[0;34m)\u001b[0m\u001b[0;34m\u001b[0m\u001b[0;34m\u001b[0m\u001b[0m\n",
            "\u001b[0;31mFileNotFoundError\u001b[0m: [Errno 2] No such file or directory: '/resources/data/Example2.txt'"
          ]
        }
      ]
    },
    {
      "cell_type": "code",
      "source": [
        "#Using a with statement does not need a close function since it runs everything that its in the block and then closes.\n",
        "with open (\"Example1.txt\", \"r\") as File1: \n",
        "  file_stuff=File1.read()\n",
        "  print(file_stuff)\n",
        "\n",
        "print(File1.closed)\n",
        "print(file_stuff)\n",
        "\n",
        "#The method read lines reads everything that its on the file. When we used it twice reads each line individually.\n",
        "file_stuff=File1.readlines()\n",
        "\n",
        "#When we add a number between parentheses we are specifying which characters do we like to read.\n",
        "file_stuff=File1.readlines(5)\n",
        "print(file_stuff) "
      ],
      "metadata": {
        "id": "qqSmAk1SG_MV"
      },
      "execution_count": null,
      "outputs": []
    },
    {
      "cell_type": "markdown",
      "source": [
        "#4.2 Writing Files with Open"
      ],
      "metadata": {
        "id": "TaJ3XViaNgTQ"
      }
    },
    {
      "cell_type": "code",
      "source": [],
      "metadata": {
        "id": "V8diMAZ2NmU5"
      },
      "execution_count": null,
      "outputs": []
    }
  ]
}